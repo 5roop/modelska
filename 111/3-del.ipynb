{
 "cells": [
  {
   "cell_type": "code",
   "execution_count": 1,
   "metadata": {},
   "outputs": [],
   "source": [
    "import numpy as np\n",
    "import matplotlib.pyplot as plt\n",
    "from numpy.random import poisson\n",
    "import pandas as pd\n",
    "plt.style.use(\"ggplot\")\n",
    "plt.rcParams['font.family'] = \"serif\"\n",
    "plt.rcParams['font.size'] = 13\n",
    "np.set_printoptions(precision=4)\n",
    "from time import monotonic\n",
    "from ipywidgets import FloatSlider\n",
    "from ipywidgets import interact, interactive, fixed, interact_manual"
   ]
  },
  {
   "cell_type": "code",
   "execution_count": 23,
   "metadata": {},
   "outputs": [
    {
     "data": {
      "text/plain": [
       "43642.166142737"
      ]
     },
     "execution_count": 23,
     "metadata": {},
     "output_type": "execute_result"
    }
   ],
   "source": [
    "monotonic()"
   ]
  },
  {
   "cell_type": "code",
   "execution_count": 19,
   "metadata": {},
   "outputs": [
    {
     "data": {
      "application/vnd.jupyter.widget-view+json": {
       "model_id": "6636e2c492ca4e1a93c2906ca006f742",
       "version_major": 2,
       "version_minor": 0
      },
      "text/plain": [
       "interactive(children=(FloatSlider(value=1.0, description='alfa', max=2.0), FloatSlider(value=1.0, description=…"
      ]
     },
     "metadata": {},
     "output_type": "display_data"
    }
   ],
   "source": [
    "@interact\n",
    "def plotaj(alfa = FloatSlider(min=0, max=2, value=1, step=0.1), beta = FloatSlider(min=0, max=2, value=1, step=0.01),\n",
    "           shrani=True, korak_casa=\"0.1\"):\n",
    "    MAXLEN = 10000\n",
    "    L0 = 50\n",
    "    Z0 = 200\n",
    "    dt=float(korak_casa)\n",
    "    zajci, lisice = np.full((2,MAXLEN), np.nan)\n",
    "    for i in range(MAXLEN):\n",
    "        if i == 0:\n",
    "            zajci[i] = Z0\n",
    "            lisice[i] = L0\n",
    "            continue\n",
    "        zn, ln = zajci[i-1], lisice[i-1]\n",
    "        zajci[i] = zn + poisson(np.abs(5*alfa*zn * dt)) - poisson(np.abs(4*alfa*zn*dt)) - poisson(np.abs(alfa*beta/L0*zn*ln*dt))\n",
    "        lisice[i] = ln + poisson(np.abs(4*beta*ln*dt)) - poisson(np.abs(5*beta*ln*dt)) + poisson(np.abs(beta*alfa/Z0*zn*ln*dt))\n",
    "        if zajci[i] <=1 or lisice[i] <=1:\n",
    "            break\n",
    "    z = zajci[~np.isnan(zajci) & ~np.isnan(lisice)]\n",
    "    l = lisice[~np.isnan(zajci) & ~ np.isnan(lisice)]\n",
    "    plt.figure(figsize=(10,5))\n",
    "    plt.subplot(121)\n",
    "    plt.plot(l, z)\n",
    "    plt.scatter(50, 200, c=\"k\", s=30, zorder=1)\n",
    "    plt.xlabel(\"lisice\")\n",
    "    plt.ylabel(\"zajci\")\n",
    "    plt.subplot(122)\n",
    "    plt.plot(dt*np.array(range(len(z))), z, label=\"Zajci\")\n",
    "    plt.plot(dt*np.array(range(len(l))), l, label=\"Lisice\")\n",
    "    plt.xlabel(\"Čas\")\n",
    "    plt.legend()\n",
    "    if shrani:\n",
    "        plt.savefig(f\"3-1-{int(monotonic())}.pdf\")\n",
    "    plt.show()\n",
    "    \n",
    "    print(f\"Korakov: {len(z)}\")"
   ]
  },
  {
   "cell_type": "code",
   "execution_count": 28,
   "metadata": {},
   "outputs": [
    {
     "data": {
      "image/png": "[encoded data removed]",
      "text/plain": [
       "<Figure size 432x288 with 1 Axes>"
      ]
     },
     "metadata": {
      "needs_background": "light"
     },
     "output_type": "display_data"
    }
   ],
   "source": [
    "def povprecen_cas_ene_simulacije(dt):\n",
    "    MAXLEN = 10000\n",
    "    L0 = 50\n",
    "    Z0 = 200\n",
    "    alfa = 1\n",
    "    beta = 1\n",
    "    zajci, lisice = np.full((2,MAXLEN), np.nan)\n",
    "    for i in range(MAXLEN):\n",
    "        if i == 0:\n",
    "            zajci[i] = Z0\n",
    "            lisice[i] = L0\n",
    "            continue\n",
    "        zn, ln = zajci[i-1], lisice[i-1]\n",
    "        zajci[i] = zn + poisson(np.abs(5*alfa*zn * dt)) - poisson(np.abs(4*alfa*zn*dt)) - poisson(np.abs(alfa*beta/L0*zn*ln*dt))\n",
    "        lisice[i] = ln + poisson(np.abs(4*beta*ln*dt)) - poisson(np.abs(5*beta*ln*dt)) + poisson(np.abs(beta*alfa/Z0*zn*ln*dt))\n",
    "        if zajci[i] <=1 or lisice[i] <=1:\n",
    "            break\n",
    "    z = zajci[~np.isnan(zajci) & ~np.isnan(lisice)]\n",
    "    l = lisice[~np.isnan(zajci) & ~ np.isnan(lisice)]\n",
    "    return len(z) * dt\n",
    "data = pd.DataFrame(columns=[\"1\", \"10\", \"100\"])\n",
    "for col in data.columns:\n",
    "    dt = int(col)/100\n",
    "    data.loc[:, col] = [povprecen_cas_ene_simulacije(dt) for i in range(10000)]\n",
    "data.to_csv(\"3-casi-prezivetja10000\")\n",
    "for col in data.columns:\n",
    "    plt.hist(data[col], bins=15, label=f\"dt={int(col)/100:0.2}\", histtype=\"step\", linewidth=2, normed=True)\n",
    "plt.legend()\n",
    "plt.show()"
   ]
  },
  {
   "cell_type": "code",
   "execution_count": 29,
   "metadata": {},
   "outputs": [
    {
     "data": {
      "image/png": "[encoded data removed]",
      "text/plain": [
       "<Figure size 432x288 with 1 Axes>"
      ]
     },
     "metadata": {
      "needs_background": "light"
     },
     "output_type": "display_data"
    }
   ],
   "source": [
    "for col in [\"5\", \"25\"]:\n",
    "    data[col] = 0\n",
    "    dt = int(col)/100\n",
    "    data.loc[:, col] = [povprecen_cas_ene_simulacije(dt) for i in range(10000)]\n",
    "data.to_csv(\"3-casi-prezivetja10000\")\n",
    "\n",
    "for col in data.columns:\n",
    "    plt.hist(data[col], bins=15, label=f\"dt={int(col)/100:0.2}\", histtype=\"step\", linewidth=2, normed=True)\n",
    "plt.legend()\n",
    "plt.show()\n",
    "    "
   ]
  },
  {
   "cell_type": "code",
   "execution_count": 33,
   "metadata": {},
   "outputs": [
    {
     "data": {
      "image/png": "[encoded data removed]",
      "text/plain": [
       "<Figure size 432x288 with 1 Axes>"
      ]
     },
     "metadata": {
      "needs_background": "light"
     },
     "output_type": "display_data"
    }
   ],
   "source": [
    "for col in [\"1\", \"10\", \"100\"]:\n",
    "    plt.hist(data[col], bins=15, label=f\"dt={int(col)/100:0.2}\", histtype=\"step\", linewidth=2, normed=True)\n",
    "plt.legend()\n",
    "plt.xlabel(\"Čas preživetja ()\")\n",
    "plt.ylabel(\"Relativna frekvenca ()\")\n",
    "plt.savefig(\"3-casi-prezivetja10000.pdf\")\n",
    "plt.show()"
   ]
  },
  {
   "cell_type": "code",
   "execution_count": 39,
   "metadata": {},
   "outputs": [
    {
     "name": "stdout",
     "output_type": "stream",
     "text": [
      "Za časovni korak 0.01 je povprečje 12.380311\n",
      "Za časovni korak 0.1 je povprečje 10.27858\n",
      "Za časovni korak 1.0 je povprečje 6.4028\n",
      "Za časovni korak 0.05 je povprečje 11.405000000000001\n",
      "Za časovni korak 0.25 je povprečje 8.183525\n"
     ]
    },
    {
     "ename": "ValueError",
     "evalue": "invalid literal for int() with base 10: '0.1'",
     "output_type": "error",
     "traceback": [
      "\u001b[0;31m---------------------------------------------------------------------------\u001b[0m",
      "\u001b[0;31mValueError\u001b[0m                                Traceback (most recent call last)",
      "\u001b[0;32m<ipython-input-39-747cef63c5d9>\u001b[0m in \u001b[0;36m<module>\u001b[0;34m\u001b[0m\n\u001b[1;32m      2\u001b[0m \u001b[0;34m\u001b[0m\u001b[0m\n\u001b[1;32m      3\u001b[0m \u001b[0;32mfor\u001b[0m \u001b[0mcol\u001b[0m \u001b[0;32min\u001b[0m \u001b[0mdata\u001b[0m\u001b[0;34m.\u001b[0m\u001b[0mcolumns\u001b[0m\u001b[0;34m:\u001b[0m\u001b[0;34m\u001b[0m\u001b[0m\n\u001b[0;32m----> 4\u001b[0;31m     \u001b[0mprint\u001b[0m\u001b[0;34m(\u001b[0m\u001b[0;34mf\"Za časovni korak {int(col)/100} je povprečje {np.mean(data[col])}\"\u001b[0m\u001b[0;34m)\u001b[0m\u001b[0;34m\u001b[0m\u001b[0m\n\u001b[0m",
      "\u001b[0;31mValueError\u001b[0m: invalid literal for int() with base 10: '0.1'"
     ]
    }
   ],
   "source": [
    "\n",
    "\n",
    "for col in data.columns:\n",
    "    print(f\"Za časovni korak {int(col)/100} je povprečje {np.mean(data[col])}\")"
   ]
  },
  {
   "cell_type": "code",
   "execution_count": 70,
   "metadata": {},
   "outputs": [
    {
     "data": {
      "text/html": [
       "<div>\n",
       "<style scoped>\n",
       "    .dataframe tbody tr th:only-of-type {\n",
       "        vertical-align: middle;\n",
       "    }\n",
       "\n",
       "    .dataframe tbody tr th {\n",
       "        vertical-align: top;\n",
       "    }\n",
       "\n",
       "    .dataframe thead th {\n",
       "        text-align: right;\n",
       "    }\n",
       "</style>\n",
       "<table border=\"1\" class=\"dataframe\">\n",
       "  <thead>\n",
       "    <tr style=\"text-align: right;\">\n",
       "      <th></th>\n",
       "      <th>povprecje</th>\n",
       "      <th>std</th>\n",
       "    </tr>\n",
       "  </thead>\n",
       "  <tbody>\n",
       "    <tr>\n",
       "      <th>0.01</th>\n",
       "      <td>12.380311</td>\n",
       "      <td>7.611619</td>\n",
       "    </tr>\n",
       "    <tr>\n",
       "      <th>0.10</th>\n",
       "      <td>10.278580</td>\n",
       "      <td>5.719481</td>\n",
       "    </tr>\n",
       "    <tr>\n",
       "      <th>1.00</th>\n",
       "      <td>6.402800</td>\n",
       "      <td>2.421931</td>\n",
       "    </tr>\n",
       "    <tr>\n",
       "      <th>0.05</th>\n",
       "      <td>11.405000</td>\n",
       "      <td>6.892369</td>\n",
       "    </tr>\n",
       "    <tr>\n",
       "      <th>0.25</th>\n",
       "      <td>8.183525</td>\n",
       "      <td>4.055558</td>\n",
       "    </tr>\n",
       "  </tbody>\n",
       "</table>\n",
       "</div>"
      ],
      "text/plain": [
       "      povprecje       std\n",
       "0.01  12.380311  7.611619\n",
       "0.10  10.278580  5.719481\n",
       "1.00   6.402800  2.421931\n",
       "0.05  11.405000  6.892369\n",
       "0.25   8.183525  4.055558"
      ]
     },
     "execution_count": 70,
     "metadata": {},
     "output_type": "execute_result"
    }
   ],
   "source": [
    "povprecja = {}\n",
    "stdji = {}\n",
    "#data.drop(labels=[\"0.1\"], axis=1, inplace=True)\n",
    "for col in data.columns:\n",
    "    dt = float(col)/100\n",
    "    povprecja[dt] = np.mean(data[col])\n",
    "    stdji[dt] = np.std(data[col])\n",
    "analiza = pd.DataFrame(index=povprecja.keys())\n",
    "analiza[\"povprecje\"] = povprecja.values()\n",
    "analiza[\"std\"] = stdji.values()\n",
    "analiza"
   ]
  },
  {
   "cell_type": "code",
   "execution_count": 76,
   "metadata": {},
   "outputs": [
    {
     "data": {
      "image/png": "[encoded data removed]",
      "text/plain": [
       "<Figure size 432x288 with 1 Axes>"
      ]
     },
     "metadata": {
      "needs_background": "light"
     },
     "output_type": "display_data"
    }
   ],
   "source": [
    "analiza.sort_index(inplace=True)\n",
    "plt.errorbar(x = analiza.index, y= analiza.povprecje, yerr=analiza[\"std\"])\n",
    "plt.xlabel(r\"Časovni korak $\\Delta t$ ()\")\n",
    "plt.ylabel(\"Povprečen čas preživetja ()\")\n",
    "plt.semilogx()\n",
    "plt.savefig(\"3-2-prezivetje-od-koraka.pdf\")\n",
    "plt.show()"
   ]
  },
  {
   "cell_type": "code",
   "execution_count": null,
   "metadata": {},
   "outputs": [],
   "source": []
  }
 ],
 "metadata": {
  "kernelspec": {
   "display_name": "Python 3",
   "language": "python",
   "name": "python3"
  },
  "language_info": {
   "codemirror_mode": {
    "name": "ipython",
    "version": 3
   },
   "file_extension": ".py",
   "mimetype": "text/x-python",
   "name": "python",
   "nbconvert_exporter": "python",
   "pygments_lexer": "ipython3",
   "version": "3.6.6"
  }
 },
 "nbformat": 4,
 "nbformat_minor": 2
}
