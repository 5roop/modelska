{
 "cells": [
  {
   "cell_type": "code",
   "execution_count": null,
   "metadata": {},
   "outputs": [],
   "source": []
  },
  {
   "cell_type": "code",
   "execution_count": 1,
   "metadata": {},
   "outputs": [],
   "source": [
    "from __future__ import print_function\n",
    "import numpy as np\n",
    "import matplotlib.pyplot as plt\n",
    "import pandas as pd\n",
    "import os\n",
    "\n",
    "\n",
    "np.set_printoptions(precision=4)\n",
    "plt.style.use(\"ggplot\")\n",
    "plt.rcParams['font.family'] = \"serif\"\n",
    "plt.rcParams['font.size'] = 13\n",
    "def seedaj():\n",
    "    with open(\"/dev/urandom\", 'rb') as f:\n",
    "        return (int.from_bytes(f.read(4), 'big'))\n",
    "def konc():\n",
    "    import os\n",
    "    duration = 0.5  # second\n",
    "    freq = 880  # Hz\n",
    "    os.system('play --no-show-progress --null --channels 1 synth %s sine %f' % (duration, freq))\n"
   ]
  },
  {
   "cell_type": "markdown",
   "metadata": {},
   "source": [
    "## Poenostavljen model"
   ]
  },
  {
   "cell_type": "code",
   "execution_count": 7,
   "metadata": {},
   "outputs": [
    {
     "name": "stdout",
     "output_type": "stream",
     "text": [
      "CPU times: user 35 µs, sys: 0 ns, total: 35 µs\n",
      "Wall time: 44.3 µs\n"
     ]
    }
   ],
   "source": [
    "%%time\n",
    "N=10**6\n",
    "def enostaven(N, mu=0.5):\n",
    "    N = int(N)\n",
    "    sipanj = np.zeros(N)\n",
    "    rji = 0\n",
    "    tji = 0\n",
    "    def sipaj(mu = mu):\n",
    "        x = - mu * np.log(1-np.random.uniform())\n",
    "        t = 0\n",
    "        r = 0\n",
    "        sipanj = 0\n",
    "        while True:\n",
    "            sign = np.random.choice([-1,1])\n",
    "            s = - mu * np.log(1-np.random.uniform())\n",
    "            x += sign*s\n",
    "            if x>1:\n",
    "                t = 1\n",
    "                break\n",
    "            elif x < 0:\n",
    "                r = 1\n",
    "                sipanj += 1\n",
    "                break\n",
    "            sipanj += 1\n",
    "        return sipanj, t, r\n",
    "    for i in range(N):\n",
    "        #print(f\"N je {i}\", end=\"\\r\")\n",
    "        s, r, t = sipaj(mu=mu)\n",
    "        sipanj[i] = s\n",
    "        tji += t\n",
    "        rji += r\n",
    "    return sipanj, tji/N, rji/N\n",
    "\"\"\"s, t, r = enostaven(N)\n",
    "print(f\"t: {t:0.5}, r: {r:0.5}\")\n",
    "plt.hist(s, bins=[0,1,2,3,4,5,6,7,8,9,10,11,12,13,14,15,16,17,18,19,20], density=True)\n",
    "plt.xlabel(\"Število sipanj ()\")\n",
    "plt.ylabel(\"relativna pogostost št. sipanj ()\")\n",
    "plt.xlim((0,12))\n",
    "#plt.savefig(\"3-1-1-porazdelitev-po-stevilu-sipanj.pdf\")\n",
    "plt.title(r\"$\\mu = 0.5,\\; N=5 \\cdot 10^3$\")\n",
    "plt.show()\"\"\""
   ]
  },
  {
   "cell_type": "code",
   "execution_count": 3,
   "metadata": {},
   "outputs": [
    {
     "data": {
      "text/plain": [
       "'%%time\\nmali = np.linspace(0.01, 2, 50)\\nveliki = np.linspace(2, 5, 25)\\nmiji = np.concatenate((mali, veliki))\\ntji = []\\nrji = []\\nfor mi in miji:\\n    print(mi)\\n    _, t, r = enostaven(100000, mu = mi)\\n    tji.append(t)\\n    rji.append(r)\\nplt.plot(miji, tji, label=\"t\")\\nplt.plot(miji, rji, label=\"r\")\\nplt.legend()\\nplt.title(\"Refleksivnost in transmisivnost\")\\nplt.xlabel(r\"$\\\\mu$, N=$10^5$\")\\nplt.savefig(\"3-2-t-r-od-mi-1e5.pdf\")\\nplt.show()\\n\\ndata = pd.DataFrame(data = {\"miji\": miji,\\n                           \"rji\": rji,\\n                           \"tji\": tji})\\ndata.to_csv(\"podatki/3-2-vpliv-mi-na-t-in-r-1e5.csv\")'"
      ]
     },
     "execution_count": 3,
     "metadata": {},
     "output_type": "execute_result"
    }
   ],
   "source": [
    "\"\"\"%%time\n",
    "mali = np.linspace(0.01, 2, 50)\n",
    "veliki = np.linspace(2, 5, 25)\n",
    "miji = np.concatenate((mali, veliki))\n",
    "tji = []\n",
    "rji = []\n",
    "for mi in miji:\n",
    "    print(mi)\n",
    "    _, t, r = enostaven(100000, mu = mi)\n",
    "    tji.append(t)\n",
    "    rji.append(r)\n",
    "plt.plot(miji, tji, label=\"t\")\n",
    "plt.plot(miji, rji, label=\"r\")\n",
    "plt.legend()\n",
    "plt.title(\"Refleksivnost in transmisivnost\")\n",
    "plt.xlabel(r\"$\\mu$, N=$10^5$\")\n",
    "plt.savefig(\"3-2-t-r-od-mi-1e5.pdf\")\n",
    "plt.show()\n",
    "\n",
    "data = pd.DataFrame(data = {\"miji\": miji,\n",
    "                           \"rji\": rji,\n",
    "                           \"tji\": tji})\n",
    "data.to_csv(\"podatki/3-2-vpliv-mi-na-t-in-r-1e5.csv\")\"\"\""
   ]
  },
  {
   "cell_type": "code",
   "execution_count": 6,
   "metadata": {},
   "outputs": [
    {
     "name": "stdout",
     "output_type": "stream",
     "text": [
      "CPU times: user 15 µs, sys: 0 ns, total: 15 µs\n",
      "Wall time: 23.1 µs\n"
     ]
    }
   ],
   "source": [
    "%%time\n",
    "def izotropen(N, mu=0.5):\n",
    "    N = int(N)\n",
    "    sipanj = np.zeros(N)\n",
    "    rji = 0\n",
    "    tji = 0\n",
    "    def sipaj(mu = mu):\n",
    "        x = - mu * np.log(1-np.random.uniform())\n",
    "        t = 0\n",
    "        r = 0\n",
    "        sipanj = 0\n",
    "        while True:\n",
    "            smer = np.random.uniform(-1,1)\n",
    "            s = - mu * np.log(1-np.random.uniform())\n",
    "            x += smer*s\n",
    "            if x>1:\n",
    "                t = 1\n",
    "                break\n",
    "            elif x < 0:\n",
    "                r = 1\n",
    "                sipanj += 1\n",
    "                break\n",
    "            sipanj += 1\n",
    "        return sipanj, t, r\n",
    "    for i in range(N):\n",
    "        #print(f\"N je {i}\",end=\"   \")\n",
    "        s, r, t = sipaj(mu=mu)\n",
    "        sipanj[i] = s\n",
    "        tji += t\n",
    "        rji += r\n",
    "    return sipanj, tji/N, rji/N\n",
    "\"\"\"s, t, r = izotropen(10**5)\n",
    "print(f\"t: {t:0.5}, r: {r:0.5}\")\n",
    "plt.hist(s, bins=[0,1,2,3,4,5,6,7,8,9,10,11,12,13,14,15,16,17,18,19,20], density=True, color=\"xkcd:azure\")\n",
    "plt.xlabel(\"Število sipanj ()\")\n",
    "plt.ylabel(\"relativna pogostost št. sipanj ()\")\n",
    "plt.xlim((0,12))\n",
    "plt.savefig(\"3-3-1-IZOTROPNO-porazdelitev-po-stevilu-sipanj.pdf\")\n",
    "plt.title(r\"$\\mu = 0.5,\\; N=10^5$\")\n",
    "plt.show()\"\"\""
   ]
  },
  {
   "cell_type": "code",
   "execution_count": 5,
   "metadata": {},
   "outputs": [
    {
     "data": {
      "text/plain": [
       "(0.2931588378117611, 0.7068411621882389)"
      ]
     },
     "execution_count": 5,
     "metadata": {},
     "output_type": "execute_result"
    }
   ],
   "source": [
    "(0.82949/(0.82949+2), 2.0/(0.82949+2))"
   ]
  },
  {
   "cell_type": "code",
   "execution_count": 9,
   "metadata": {},
   "outputs": [
    {
     "data": {
      "application/vnd.jupyter.widget-view+json": {
       "model_id": "f583fcc7e8414249a0a119fc297a1ce5",
       "version_major": 2,
       "version_minor": 0
      },
      "text/plain": [
       "IntProgress(value=0, max=220)"
      ]
     },
     "metadata": {},
     "output_type": "display_data"
    },
    {
     "name": "stdout",
     "output_type": "stream",
     "text": [
      "mi = 5.0 od 5 555\r"
     ]
    },
    {
     "data": {
      "image/png": "[encoded data removed]",
      "text/plain": [
       "<Figure size 432x288 with 1 Axes>"
      ]
     },
     "metadata": {
      "needs_background": "light"
     },
     "output_type": "display_data"
    },
    {
     "name": "stdout",
     "output_type": "stream",
     "text": [
      "CPU times: user 5h 36min 55s, sys: 1min 46s, total: 5h 38min 41s\n",
      "Wall time: 5h 57min 11s\n"
     ]
    }
   ],
   "source": [
    "%%time\n",
    "from ipywidgets import IntProgress\n",
    "from IPython.display import display\n",
    "\n",
    "\n",
    "\n",
    "N = 400*10**3\n",
    "\n",
    "\n",
    "mali = np.linspace(0.01, 2, 150)\n",
    "veliki = np.linspace(2, 5, 70)\n",
    "miji = np.concatenate((mali, veliki))\n",
    "\n",
    "t_eno = []\n",
    "r_eno = []\n",
    "t_izo = []\n",
    "r_izo = []\n",
    "max_count=len(miji)\n",
    "f = IntProgress(min=0, max=max_count) # instantiate the bar\n",
    "display(f) # display the bar\n",
    "\n",
    "for mi in miji:\n",
    "    f.value += 1\n",
    "    print(f\"mi = {mi:0.4} od 5\", end=\"\\r\")\n",
    "    _, t, r = enostaven(N, mu = mi)\n",
    "    t_eno.append(t)\n",
    "    r_eno.append(r)\n",
    "    _, t, r = izotropen(N, mu = mi)\n",
    "    t_izo.append(t)\n",
    "    r_izo.append(r)\n",
    "plt.plot(miji, t_eno, label=\"t_e\",c=\"yellow\")\n",
    "plt.plot(miji, r_eno, label=\"r_e\",c=\"orange\")\n",
    "plt.plot(miji, t_izo, label=\"t_izo\", c=\"green\")\n",
    "plt.plot(miji, r_izo, label=\"r_izo\", c=\"darkblue\")\n",
    "plt.legend()\n",
    "plt.title(\"Refleksivnost in transmisivnost\")\n",
    "plt.xlabel(fr\"$\\mu$, N=${N}$\")\n",
    "plt.savefig(f\"3-2-t-r-od-mi-{N}.pdf\")\n",
    "plt.show()\n",
    "\n",
    "data = pd.DataFrame(data = {\"miji\": miji,\n",
    "                           \"r_eno\": r_eno,\n",
    "                           \"t_eno\": t_eno,                    \n",
    "                           \"r_izo\": r_izo,\n",
    "                           \"t_izo\": t_izo})\n",
    "data.to_csv(f\"podatki/3-2-vpliv-mi-na-t-in-r-DVAMODELA-{N}-popravljeno.csv\")"
   ]
  },
  {
   "cell_type": "code",
   "execution_count": null,
   "metadata": {},
   "outputs": [],
   "source": []
  },
  {
   "cell_type": "code",
   "execution_count": null,
   "metadata": {},
   "outputs": [],
   "source": []
  },
  {
   "cell_type": "code",
   "execution_count": null,
   "metadata": {},
   "outputs": [],
   "source": []
  },
  {
   "cell_type": "code",
   "execution_count": null,
   "metadata": {},
   "outputs": [],
   "source": []
  },
  {
   "cell_type": "code",
   "execution_count": null,
   "metadata": {},
   "outputs": [],
   "source": []
  },
  {
   "cell_type": "code",
   "execution_count": null,
   "metadata": {},
   "outputs": [],
   "source": []
  },
  {
   "cell_type": "code",
   "execution_count": 30,
   "metadata": {},
   "outputs": [
    {
     "data": {
      "application/vnd.jupyter.widget-view+json": {
       "model_id": "7649f15b79344a5eb357b561ba719f6c",
       "version_major": 2,
       "version_minor": 0
      },
      "text/plain": [
       "IntProgress(value=0, max=9)"
      ]
     },
     "metadata": {},
     "output_type": "display_data"
    },
    {
     "name": "stdout",
     "output_type": "stream",
     "text": [
      "mi = 4.721 od 55\r"
     ]
    },
    {
     "data": {
      "image/png": "[encoded data removed]",
      "text/plain": [
       "<Figure size 432x288 with 1 Axes>"
      ]
     },
     "metadata": {
      "needs_background": "light"
     },
     "output_type": "display_data"
    }
   ],
   "source": [
    "mali = np.linspace(0.0623, 0.908, 7)\n",
    "veliki = np.linspace(2.34113, 4.721, 2)\n",
    "miji = np.concatenate((mali, veliki))\n",
    "\n",
    "t_eno = []\n",
    "r_eno = []\n",
    "t_izo = []\n",
    "r_izo = []\n",
    "max_count=len(miji)\n",
    "f = IntProgress(min=0, max=max_count) # instantiate the bar\n",
    "display(f) # display the bar\n",
    "\n",
    "for mi in miji:\n",
    "    f.value += 1\n",
    "    print(f\"mi = {mi:0.4} od 5\", end=\"\\r\")\n",
    "    _, t, r = enostaven(N, mu = mi)\n",
    "    t_eno.append(t)\n",
    "    r_eno.append(r)\n",
    "    _, t, r = izotropen(N, mu = mi)\n",
    "    t_izo.append(t)\n",
    "    r_izo.append(r)\n",
    "\n",
    "\n",
    "\n",
    "data2 = pd.DataFrame(data = {\"miji\": miji,\n",
    "                           \"r_eno\": r_eno,\n",
    "                           \"t_eno\": t_eno,                    \n",
    "                           \"r_izo\": r_izo,\n",
    "                           \"t_izo\": t_izo})\n",
    "data = pd.concat((data, data2), ignore_index=True)\n",
    "data.to_csv(f\"podatki/3-2-vpliv-mi-na-t-in-r-DVAMODELA-{N}.csv\")\n",
    "\n",
    "data.sort_values(by=\"miji\", inplace=True)\n",
    "plt.plot(data.miji, data.t_eno, label=\"t_e\",c=\"yellow\")\n",
    "plt.plot(data.miji, data.r_eno, label=\"r_e\",c=\"orange\")\n",
    "plt.plot(data.miji, data.t_izo, label=\"t_izo\", c=\"green\")\n",
    "plt.plot(data.miji, data.r_izo, label=\"r_izo\", c=\"darkblue\")\n",
    "plt.legend()\n",
    "plt.title(\"Refleksivnost in transmisivnost\")\n",
    "plt.xlabel(fr\"$\\mu$, N=${N}$\")\n",
    "#plt.savefig(f\"3-2-t-r-od-mi-{N}.pdf\")\n",
    "plt.show()"
   ]
  },
  {
   "cell_type": "code",
   "execution_count": 21,
   "metadata": {},
   "outputs": [
    {
     "data": {
      "text/plain": [
       "True"
      ]
     },
     "execution_count": 21,
     "metadata": {},
     "output_type": "execute_result"
    }
   ],
   "source": [
    "np.any(data.miji == 5.0)"
   ]
  },
  {
   "cell_type": "code",
   "execution_count": null,
   "metadata": {},
   "outputs": [],
   "source": []
  }
 ],
 "metadata": {
  "kernelspec": {
   "display_name": "Python 3",
   "language": "python",
   "name": "python3"
  },
  "language_info": {
   "codemirror_mode": {
    "name": "ipython",
    "version": 3
   },
   "file_extension": ".py",
   "mimetype": "text/x-python",
   "name": "python",
   "nbconvert_exporter": "python",
   "pygments_lexer": "ipython3",
   "version": "3.6.6"
  }
 },
 "nbformat": 4,
 "nbformat_minor": 2
}
