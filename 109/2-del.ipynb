{
 "cells": [
  {
   "cell_type": "code",
   "execution_count": null,
   "metadata": {},
   "outputs": [],
   "source": [
    "from __future__ import print_function\n",
    "import numpy as np\n",
    "import matplotlib.pyplot as plt\n",
    "import pandas as pd\n",
    "import os\n",
    "\n",
    "\n",
    "np.set_printoptions(precision=4)\n",
    "plt.style.use(\"ggplot\")\n",
    "plt.rcParams['font.family'] = \"serif\"\n",
    "plt.rcParams['font.size'] = 13\n",
    "def seedaj():\n",
    "    with open(\"/dev/urandom\", 'rb') as f:\n",
    "        return (int.from_bytes(f.read(4), 'big'))\n",
    "def konc():\n",
    "    import os\n",
    "    duration = 0.5  # second\n",
    "    freq = 880  # Hz\n",
    "    os.system('play --no-show-progress --null --channels 1 synth %s sine %f' % (duration, freq))\n",
    "\n",
    "def rts(mu, N=1e5):\n",
    "    \"\"\"Vrne arej primerno porazdeljenih r, theta in s\n",
    "    oblika areja je (3, N).\"\"\"\n",
    "    N = int(N)\n",
    "    u1 = np.random.uniform(size = N)\n",
    "    u2 = np.random.uniform(size = N)\n",
    "    u3 = np.random.uniform(size = N)\n",
    "    r = np.power(u1, 1/3)\n",
    "    t = np.arccos(2*u2 -1)\n",
    "    s = - mu * np.log(1-u3)\n",
    "    return np.vstack((r,t,s))\n",
    "\n",
    "def pogoj(rts_arej):\n",
    "    \"\"\"Sprejme rts arej r theta in s oblike (3,N)\n",
    "    in izračuna, ali foton pride ven. Output:\n",
    "    boolov arej dolžine N\"\"\"\n",
    "    r,t,s = rts_arej\n",
    "    return s> -r*np.cos(t)+np.sqrt(1-r**2 * (1-(np.cos(t))**2))\n"
   ]
  },
  {
   "cell_type": "code",
   "execution_count": null,
   "metadata": {},
   "outputs": [],
   "source": [
    "a = 10**12\n",
    "print(f\"{a:.03e}\")"
   ]
  },
  {
   "cell_type": "code",
   "execution_count": null,
   "metadata": {},
   "outputs": [],
   "source": [
    "%%time\n",
    "mali = np.linspace(0, 2, 101)\n",
    "srednji = np.linspace(2, 4, 51)\n",
    "veliki = np.linspace(4,8,51)\n",
    "miji = np.concatenate((mali, srednji, veliki))\n",
    "\n",
    "\n",
    "\n",
    "pobeglih = np.zeros_like(miji)\n",
    "plt.figure(figsize=(8, 5))\n",
    "plt.xlabel(fr\"Vrednost $\\mu$ (v enotah radija)\")\n",
    "plt.ylabel(r\"Delež pobeglih fotonov\")\n",
    "\n",
    "N=10**3\n",
    "for i, mi in enumerate(miji):\n",
    "\n",
    "    arej = rts(mi, N=N)\n",
    "    pobeglih[i] = (np.sum(pogoj(arej))/N)\n",
    "plt.plot(miji, pobeglih, label=f\"N:{N:0.1e}\")\n",
    "\n",
    "N=10**4\n",
    "for i, mi in enumerate(miji):\n",
    "\n",
    "    arej = rts(mi, N=N)\n",
    "    pobeglih[i] = (np.sum(pogoj(arej))/N)\n",
    "plt.plot(miji, pobeglih, label=f\"N:{N:0.1e}\")\n",
    "\n",
    "N=10**6\n",
    "for i, mi in enumerate(miji):\n",
    "\n",
    "    arej = rts(mi, N=N)\n",
    "    pobeglih[i] = (np.sum(pogoj(arej))/N)\n",
    "plt.plot(miji, pobeglih, label=f\"N:{N:0.1e}\")\n",
    "\n",
    "\n",
    "plt.legend(loc=\"lower right\")\n",
    "plt.savefig(\"2-1-delez-kombo.pdf\")\n",
    "plt.show()\n"
   ]
  },
  {
   "cell_type": "code",
   "execution_count": null,
   "metadata": {},
   "outputs": [],
   "source": [
    "plt.plot(miji, pobeglih)\n",
    "#plt.savefig(\"2-1-delez-scatter.pdf\")\n",
    "plt.show()"
   ]
  },
  {
   "cell_type": "code",
   "execution_count": null,
   "metadata": {},
   "outputs": [],
   "source": [
    "plt.hist(np.random.uniform(size=1000000)**(1/3))"
   ]
  },
  {
   "cell_type": "code",
   "execution_count": 1,
   "metadata": {},
   "outputs": [
    {
     "data": {
      "application/vnd.jupyter.widget-view+json": {
       "model_id": "26a9216b1d5c4f2ead3360c905b6751f",
       "version_major": 2,
       "version_minor": 0
      },
      "text/plain": [
       "IntProgress(value=0)"
      ]
     },
     "metadata": {},
     "output_type": "display_data"
    }
   ],
   "source": [
    "from ipywidgets import IntProgress\n",
    "#from IPython.display import display\n",
    "import time\n",
    "\n",
    "max_count = 100\n",
    "\n",
    "f = IntProgress(min=0, max=max_count) # instantiate the bar\n",
    "display(f) # display the bar\n",
    "\n",
    "count = 0\n",
    "while count <= max_count:\n",
    "    f.value += 1 # signal to increment the progress bar\n",
    "    time.sleep(.1)\n",
    "    count += 1"
   ]
  },
  {
   "cell_type": "code",
   "execution_count": 4,
   "metadata": {},
   "outputs": [],
   "source": [
    "display?"
   ]
  },
  {
   "cell_type": "code",
   "execution_count": null,
   "metadata": {},
   "outputs": [],
   "source": [
    "import numpy as np\n",
    "import matplotlib.pyplot as plt\n",
    "from IPython.display import display, clear_output\n",
    "fig = plt.figure()\n",
    "ax = fig.add_subplot(1, 1, 1) \n",
    "\n",
    "for i in range(20):\n",
    "    x = np.arange(0, i, 0.1);\n",
    "    y = np.sin(x)\n",
    "    \n",
    "    ax.set_xlim(0, i)\n",
    "    \n",
    "    ax.cla()\n",
    "    ax.plot(x, y)\n",
    "    display(fig)\n",
    "    \n",
    "    clear_output(wait = True)\n",
    "    plt.pause(0.5)"
   ]
  },
  {
   "cell_type": "code",
   "execution_count": 2,
   "metadata": {},
   "outputs": [
    {
     "name": "stdout",
     "output_type": "stream",
     "text": []
    }
   ],
   "source": [
    "for i in range(10):\n",
    "    import time\n",
    "    print(i, end=\"\\r\")\n",
    "    time.sleep(1)"
   ]
  },
  {
   "cell_type": "code",
   "execution_count": null,
   "metadata": {},
   "outputs": [],
   "source": []
  }
 ],
 "metadata": {
  "kernelspec": {
   "display_name": "Python 3",
   "language": "python",
   "name": "python3"
  },
  "language_info": {
   "codemirror_mode": {
    "name": "ipython",
    "version": 3
   },
   "file_extension": ".py",
   "mimetype": "text/x-python",
   "name": "python",
   "nbconvert_exporter": "python",
   "pygments_lexer": "ipython3",
   "version": "3.6.6"
  }
 },
 "nbformat": 4,
 "nbformat_minor": 2
}
