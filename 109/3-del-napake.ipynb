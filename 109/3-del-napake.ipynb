{
 "cells": [
  {
   "cell_type": "code",
   "execution_count": 1,
   "metadata": {},
   "outputs": [],
   "source": [
    "from __future__ import print_function\n",
    "import numpy as np\n",
    "import matplotlib.pyplot as plt\n",
    "import pandas as pd\n",
    "import os\n",
    "\n",
    "\n",
    "np.set_printoptions(precision=4)\n",
    "plt.style.use(\"ggplot\")\n",
    "plt.rcParams['font.family'] = \"serif\"\n",
    "plt.rcParams['font.size'] = 13\n",
    "def seedaj():\n",
    "    with open(\"/dev/urandom\", 'rb') as f:\n",
    "        return (int.from_bytes(f.read(4), 'big'))\n",
    "def konc():\n",
    "    import os\n",
    "    duration = 1  # second\n",
    "    freq = 880  # Hz\n",
    "    os.system('play --no-show-progress --null --channels 1 synth %s sine %f' % (duration, freq))\n"
   ]
  },
  {
   "cell_type": "code",
   "execution_count": 6,
   "metadata": {},
   "outputs": [
    {
     "data": {
      "text/plain": [
       "'/home/peter/Documents/modelska/109/podatki'"
      ]
     },
     "execution_count": 6,
     "metadata": {},
     "output_type": "execute_result"
    }
   ],
   "source": [
    "os.chdir(\"podatki/\")\n",
    "os.getcwd()"
   ]
  },
  {
   "cell_type": "code",
   "execution_count": 8,
   "metadata": {},
   "outputs": [
    {
     "data": {
      "text/plain": [
       "['3-2-vpliv-mi-na-t-in-r-DVAMODELA-100000.csv']"
      ]
     },
     "execution_count": 8,
     "metadata": {},
     "output_type": "execute_result"
    }
   ],
   "source": [
    "fajli = !ls *00000.csv\n",
    "fajli"
   ]
  },
  {
   "cell_type": "code",
   "execution_count": 20,
   "metadata": {},
   "outputs": [
    {
     "name": "stdout",
     "output_type": "stream",
     "text": [
      "Sigma stolpca r_eno je 0.003016 \n",
      "Sigma stolpca t_eno je 0.003016 \n",
      "Sigma stolpca r_izo je 0.002299 \n",
      "Sigma stolpca t_izo je 0.002299 \n"
     ]
    }
   ],
   "source": [
    "data = pd.read_csv(fajli[0], usecols=[1,2,3,4,5])\n",
    "data.sort_values(by=\"miji\", inplace=True)\n",
    "stolpci = data.columns[1:]\n",
    "for col in stolpci:\n",
    "    averaged_col_name_string = f\"{col}_ave\"\n",
    "    data[averaged_col_name_string] = data[col].rolling(4).mean().shift(-2)\n",
    "    varianca = np.sum((data[averaged_col_name_string]-data[col])**2 /len(data))\n",
    "    print(f\"Sigma stolpca {col} je {varianca**0.5:0.4} \")"
   ]
  },
  {
   "cell_type": "code",
   "execution_count": null,
   "metadata": {},
   "outputs": [],
   "source": []
  }
 ],
 "metadata": {
  "kernelspec": {
   "display_name": "Python 3",
   "language": "python",
   "name": "python3"
  },
  "language_info": {
   "codemirror_mode": {
    "name": "ipython",
    "version": 3
   },
   "file_extension": ".py",
   "mimetype": "text/x-python",
   "name": "python",
   "nbconvert_exporter": "python",
   "pygments_lexer": "ipython3",
   "version": "3.6.6"
  }
 },
 "nbformat": 4,
 "nbformat_minor": 2
}
