{
 "cells": [
  {
   "cell_type": "code",
   "execution_count": 1,
   "metadata": {},
   "outputs": [],
   "source": [
    "from __future__ import print_function\n",
    "import numpy as np\n",
    "import matplotlib.pyplot as plt\n",
    "import pandas as pd\n",
    "import os\n",
    "\n",
    "\n",
    "np.set_printoptions(precision=4)\n",
    "plt.style.use(\"ggplot\")\n",
    "plt.rcParams['font.family'] = \"serif\"\n",
    "plt.rcParams['font.size'] = 13\n",
    "def seedaj():\n",
    "    with open(\"/dev/urandom\", 'rb') as f:\n",
    "        return (int.from_bytes(f.read(4), 'big'))\n",
    "def konc():\n",
    "    import os\n",
    "    duration = 1  # second\n",
    "    freq = 880  # Hz\n",
    "    os.system('play --no-show-progress --null --channels 1 synth %s sine %f' % (duration, freq))"
   ]
  },
  {
   "cell_type": "code",
   "execution_count": 2,
   "metadata": {},
   "outputs": [
    {
     "data": {
      "text/plain": [
       "4.704"
      ]
     },
     "execution_count": 2,
     "metadata": {},
     "output_type": "execute_result"
    }
   ],
   "source": [
    "def masa(N = 1e6, p=0):\n",
    "    N = int(N)\n",
    "    #np.random.seed(seedaj())\n",
    "    def v_telesu(x,y,z):\n",
    "\n",
    "        p1 = x*x+y*y < 1\n",
    "        p2 = x*x+z*z < 1\n",
    "        p3 = y*y+z*z < 1\n",
    "        return p1 & p2 & p3\n",
    "    V_0 = 2*2*2\n",
    "    def rho(x,y,z):\n",
    "        if p==0:\n",
    "            return 1\n",
    "        else:\n",
    "            return (radij(x,y,z))**p\n",
    "    def radij(x,y,z):\n",
    "        return np.sqrt(x*x+y*y+z*z)\n",
    "    #Mainloop:\n",
    "    sumajca = 0\n",
    "    for i in range(N):\n",
    "        x,y,z = np.random.uniform(-1,1,3)\n",
    "        if v_telesu(x,y,z):\n",
    "            sumajca += rho(x,y,z)\n",
    "    #dodamo konstante pred vsoto\n",
    "    sumajca *= V_0/N\n",
    "    return sumajca\n",
    "\n",
    "def masaa(N = 1e6, p=0):\n",
    "    N = int(N)\n",
    "    #np.random.seed(seedaj())\n",
    "    def v_telesu(arej):\n",
    "        x,y,z = arej\n",
    "        p1 = x*x+y*y < 1\n",
    "        p2 = x*x+z*z < 1\n",
    "        p3 = y*y+z*z < 1\n",
    "        return p1 & p2 & p3\n",
    "    V_0 = 2*2*2\n",
    "    def rho(arej):\n",
    "        x,y,z = arej\n",
    "        if p==0:\n",
    "            return 1\n",
    "        else:\n",
    "            return (radij(arej))**p\n",
    "    def radij(arej):\n",
    "        x,y,z = arej\n",
    "        return np.sqrt(x*x+y*y+z*z)\n",
    "    #Mainloop:\n",
    "    sumajca = 0\n",
    "    #XYZ = np.random.uniform(-1,1,(N, 3))\n",
    "    for i in range(N):\n",
    "        XYZ = np.random.uniform(-1,1,3)\n",
    "        if v_telesu(XYZ):\n",
    "            sumajca += rho(XYZ)\n",
    "    #dodamo konstante pred vsoto\n",
    "    sumajca *= V_0/N\n",
    "    return sumajca\n",
    "\n",
    "masaa(N=1e3)"
   ]
  },
  {
   "cell_type": "code",
   "execution_count": 18,
   "metadata": {},
   "outputs": [
    {
     "name": "stdout",
     "output_type": "stream",
     "text": [
      "1.96 s ± 33.7 ms per loop (mean ± std. dev. of 7 runs, 1 loop each)\n"
     ]
    }
   ],
   "source": [
    "%timeit masaa(N=1e5)"
   ]
  },
  {
   "cell_type": "code",
   "execution_count": 19,
   "metadata": {},
   "outputs": [
    {
     "name": "stdout",
     "output_type": "stream",
     "text": [
      "1.8 s ± 21 ms per loop (mean ± std. dev. of 7 runs, 1 loop each)\n"
     ]
    }
   ],
   "source": [
    "%timeit masa(N=1e5)"
   ]
  },
  {
   "cell_type": "code",
   "execution_count": 14,
   "metadata": {},
   "outputs": [
    {
     "ename": "NameError",
     "evalue": "name 'potek_m' is not defined",
     "output_type": "error",
     "traceback": [
      "\u001b[0;31m---------------------------------------------------------------------------\u001b[0m",
      "\u001b[0;31mNameError\u001b[0m                                 Traceback (most recent call last)",
      "\u001b[0;32m<ipython-input-14-e472c3cd7cce>\u001b[0m in \u001b[0;36m<module>\u001b[0;34m()\u001b[0m\n\u001b[0;32m----> 1\u001b[0;31m \u001b[0mblu\u001b[0m \u001b[0;34m=\u001b[0m \u001b[0mpotek_m\u001b[0m\u001b[0;34m\u001b[0m\u001b[0m\n\u001b[0m\u001b[1;32m      2\u001b[0m \u001b[0mrazpon_njev\u001b[0m \u001b[0;34m=\u001b[0m \u001b[0mnp\u001b[0m\u001b[0;34m.\u001b[0m\u001b[0mlogspace\u001b[0m\u001b[0;34m(\u001b[0m\u001b[0mstart\u001b[0m\u001b[0;34m=\u001b[0m\u001b[0;36m0\u001b[0m\u001b[0;34m,\u001b[0m \u001b[0mstop\u001b[0m\u001b[0;34m=\u001b[0m\u001b[0;36m8\u001b[0m\u001b[0;34m,\u001b[0m \u001b[0mnum\u001b[0m\u001b[0;34m=\u001b[0m\u001b[0;36m25\u001b[0m\u001b[0;34m)\u001b[0m\u001b[0;34m\u001b[0m\u001b[0m\n\u001b[1;32m      3\u001b[0m \u001b[0mprint\u001b[0m\u001b[0;34m(\u001b[0m\u001b[0mrazpon_njev\u001b[0m\u001b[0;34m,\u001b[0m \u001b[0mend\u001b[0m\u001b[0;34m=\u001b[0m\u001b[0;34m\"\\r\"\u001b[0m\u001b[0;34m)\u001b[0m\u001b[0;34m\u001b[0m\u001b[0m\n\u001b[1;32m      4\u001b[0m \u001b[0mpotek_m\u001b[0m \u001b[0;34m=\u001b[0m \u001b[0mpd\u001b[0m\u001b[0;34m.\u001b[0m\u001b[0mDataFrame\u001b[0m\u001b[0;34m(\u001b[0m\u001b[0mindex\u001b[0m\u001b[0;34m=\u001b[0m\u001b[0mrazpon_njev\u001b[0m\u001b[0;34m)\u001b[0m\u001b[0;34m\u001b[0m\u001b[0m\n\u001b[1;32m      5\u001b[0m \u001b[0mpotek_m\u001b[0m\u001b[0;34m[\u001b[0m\u001b[0;34m\"N\"\u001b[0m\u001b[0;34m]\u001b[0m \u001b[0;34m=\u001b[0m \u001b[0mpotek_m\u001b[0m\u001b[0;34m.\u001b[0m\u001b[0mindex\u001b[0m\u001b[0;34m.\u001b[0m\u001b[0mastype\u001b[0m\u001b[0;34m(\u001b[0m\u001b[0mint\u001b[0m\u001b[0;34m)\u001b[0m\u001b[0;34m\u001b[0m\u001b[0m\n",
      "\u001b[0;31mNameError\u001b[0m: name 'potek_m' is not defined"
     ]
    }
   ],
   "source": [
    "blu = potek_m\n",
    "razpon_njev = np.logspace(start=0, stop=8, num=25)\n",
    "print(razpon_njev, end=\"\\r\")\n",
    "potek_m = pd.DataFrame(index=razpon_njev)\n",
    "potek_m[\"N\"] = potek_m.index.astype(int)\n",
    "potek_m[\"m_hat\"] = potek_m.apply(lambda row: masa(row.N), axis=1)\n",
    "print(\"KAMPLILU JEEEE!!!!\")\n",
    "potek_m = potek_m.append(blu, sort=True)\n",
    "potek_m"
   ]
  },
  {
   "cell_type": "code",
   "execution_count": null,
   "metadata": {},
   "outputs": [],
   "source": [
    "potek_m.sort_values(by=\"N\", inplace=True)\n",
    "plt.plot(potek_m.N, potek_m.m_hat)\n",
    "plt.xlabel(r\"$N$\")\n",
    "plt.ylabel(r\"$\\hat{m}$\")\n",
    "plt.title(r\"Cenilka mase, $p=0$\")\n",
    "plt.semilogx()\n",
    "plt.savefig(\"1-1-masa.pdf\")\n",
    "plt.show()"
   ]
  },
  {
   "cell_type": "code",
   "execution_count": 7,
   "metadata": {},
   "outputs": [
    {
     "data": {
      "image/png": "[encoded data removed]",
      "text/plain": [
       "<Figure size 432x288 with 1 Axes>"
      ]
     },
     "metadata": {},
     "output_type": "display_data"
    },
    {
     "name": "stdout",
     "output_type": "stream",
     "text": [
      "CPU times: user 39min 37s, sys: 24.8 s, total: 40min 2s\n",
      "Wall time: 39min 43s\n"
     ]
    }
   ],
   "source": [
    "%%time\n",
    "razpon_p = np.linspace(0, 5, 100)\n",
    "potek_p = pd.DataFrame(index=razpon_p)\n",
    "potek_p[\"m_hat\"] = [masa(N=int(1e6), p=p) for p in potek_p.index]\n",
    "konc()\n",
    "potek_p.to_csv(\"podatki/p1.csv\")\n",
    "\n",
    "\n",
    "potek_p.sort_index(inplace=True)\n",
    "plt.plot(potek_p.index, potek_p.m_hat)\n",
    "plt.xlabel(r\"$p$\")\n",
    "plt.ylabel(r\"$\\hat{m}$\")\n",
    "plt.title(r\"Cenilka mase, $N=10^6$\")\n",
    "plt.savefig(\"1-1-p.pdf\")\n",
    "plt.show()"
   ]
  },
  {
   "cell_type": "code",
   "execution_count": 20,
   "metadata": {},
   "outputs": [
    {
     "name": "stdout",
     "output_type": "stream",
     "text": []
    },
    {
     "data": {
      "image/png": "[encoded data removed]",
      "text/plain": [
       "<Figure size 432x288 with 1 Axes>"
      ]
     },
     "metadata": {},
     "output_type": "display_data"
    },
    {
     "name": "stdout",
     "output_type": "stream",
     "text": [
      "CPU times: user 21min 5s, sys: 17.9 s, total: 21min 23s\n",
      "Wall time: 21min 7s\n"
     ]
    }
   ],
   "source": [
    "%%time\n",
    "razpon_p = np.linspace(0, 5, 50)\n",
    "potek_p = pd.DataFrame(index=razpon_p)\n",
    "_ = []\n",
    "for i, p in enumerate(razpon_p):\n",
    "    print(f\"i = {i}\", end=\"\\r\")\n",
    "    _.append(masa(N=int(1e6), p=p))\n",
    "    \n",
    "#potek_p[\"m_hat\"] = [masa(N=int(14), p=p) for p in potek_p.index]\n",
    "potek_p[\"m_hat\"] = _\n",
    "konc()\n",
    "potek_p.to_csv(\"podatki/p1.csv\")\n",
    "\n",
    "\n",
    "potek_p.sort_index(inplace=True)\n",
    "plt.plot(potek_p.index, potek_p.m_hat)\n",
    "plt.xlabel(r\"$p$\")\n",
    "plt.ylabel(r\"$\\hat{m}$\")\n",
    "plt.title(r\"Cenilka mase, $N=10^6$\")\n",
    "plt.savefig(\"1-1-p.pdf\")\n",
    "plt.show()"
   ]
  },
  {
   "cell_type": "code",
   "execution_count": 1,
   "metadata": {},
   "outputs": [],
   "source": [
    "def momenta(N = 1e6, p=0):\n",
    "    N = int(N)\n",
    "    #np.random.seed(seedaj())\n",
    "    def v_telesu(arej):\n",
    "        x,y,z = arej\n",
    "        p1 = x*x+y*y < 1\n",
    "        p2 = x*x+z*z < 1\n",
    "        p3 = y*y+z*z < 1\n",
    "        return p1 & p2 & p3\n",
    "    V_0 = 2*2*2\n",
    "    def rho(arej):\n",
    "        x,y,z = arej\n",
    "        if p==0:\n",
    "            return 1\n",
    "        else:\n",
    "            return (radij(arej))**p\n",
    "    def radij(arej):\n",
    "        x,y,z = arej\n",
    "        return np.sqrt(x*x+y*y+z*z)\n",
    "    #Mainloop:\n",
    "    sumajca = 0\n",
    "    #XYZ = np.random.uniform(-1,1,(N, 3))\n",
    "    for i in range(N):\n",
    "        XYZ = np.random.uniform(-1,1,3)\n",
    "        if v_telesu(XYZ):\n",
    "            sumajca += radij(XYZ)**2 * rho(XYZ)\n",
    "    #dodamo konstante pred vsoto\n",
    "    sumajca *= V_0/N\n",
    "    return sumajca"
   ]
  },
  {
   "cell_type": "code",
   "execution_count": 8,
   "metadata": {},
   "outputs": [
    {
     "name": "stdout",
     "output_type": "stream",
     "text": [
      "i: 0 od 50\n",
      "i: 1 od 50\n",
      "i: 2 od 50\n",
      "i: 3 od 50\n",
      "i: 4 od 50\n",
      "i: 5 od 50\n",
      "i: 6 od 50\n",
      "i: 7 od 50\n",
      "i: 8 od 50\n",
      "i: 9 od 50\n",
      "i: 10 od 50\n",
      "i: 11 od 50\n",
      "i: 12 od 50\n",
      "i: 13 od 50\n",
      "i: 14 od 50\n",
      "i: 15 od 50\n",
      "i: 16 od 50\n",
      "i: 17 od 50\n",
      "i: 18 od 50\n",
      "i: 19 od 50\n",
      "i: 20 od 50\n",
      "i: 21 od 50\n",
      "i: 22 od 50\n",
      "i: 23 od 50\n",
      "i: 24 od 50\n",
      "i: 25 od 50\n",
      "i: 26 od 50\n",
      "i: 27 od 50\n",
      "i: 28 od 50\n",
      "i: 29 od 50\n",
      "i: 30 od 50\n",
      "i: 31 od 50\n",
      "i: 32 od 50\n",
      "i: 33 od 50\n",
      "i: 34 od 50\n",
      "i: 35 od 50\n",
      "i: 36 od 50\n",
      "i: 37 od 50\n",
      "i: 38 od 50\n",
      "i: 39 od 50\n",
      "i: 40 od 50\n",
      "i: 41 od 50\n",
      "i: 42 od 50\n",
      "i: 43 od 50\n",
      "i: 44 od 50\n",
      "i: 45 od 50\n",
      "i: 46 od 50\n",
      "i: 47 od 50\n",
      "i: 48 od 50\n",
      "i: 49 od 50\n"
     ]
    },
    {
     "data": {
      "image/png": "[encoded data removed]",
      "text/plain": [
       "<Figure size 432x288 with 1 Axes>"
      ]
     },
     "metadata": {
      "needs_background": "light"
     },
     "output_type": "display_data"
    },
    {
     "name": "stdout",
     "output_type": "stream",
     "text": [
      "CPU times: user 30min 28s, sys: 35.2 s, total: 31min 3s\n",
      "Wall time: 30min 27s\n"
     ]
    }
   ],
   "source": [
    "N = np.logspace(1, 8)\n",
    "n = []\n",
    "p = []\n",
    "for i in N:\n",
    "    i = int(i)\n",
    "    n.append(i)\n",
    "    p.append(momenta(N=i))\n",
    "\n",
    "    "
   ]
  },
  {
   "cell_type": "code",
   "execution_count": 6,
   "metadata": {},
   "outputs": [
    {
     "name": "stdout",
     "output_type": "stream",
     "text": [
      "i: 10.0 od 20\n",
      "i: 23.357214690901223 od 20\n",
      "i: 54.5559478116852 od 20\n",
      "i: 127.42749857031335 od 20\n",
      "i: 297.63514416313194 od 20\n",
      "i: 695.1927961775606 od 20\n",
      "i: 1623.776739188721 od 20\n",
      "i: 3792.69019073225 od 20\n",
      "i: 8858.667904100823 od 20\n",
      "i: 20691.3808111479 od 20\n",
      "i: 48329.30238571752 od 20\n",
      "i: 112883.78916846884 od 20\n",
      "i: 263665.08987303555 od 20\n",
      "i: 615848.2110660254 od 20\n",
      "i: 1438449.888287663 od 20\n",
      "i: 3359818.286283781 od 20\n",
      "i: 7847599.703514607 od 20\n",
      "i: 18329807.108324338 od 20\n",
      "i: 42813323.98719387 od 20\n",
      "i: 100000000.0 od 20\n"
     ]
    },
    {
     "data": {
      "image/png": "[encoded data removed]",
      "text/plain": [
       "<Figure size 432x288 with 1 Axes>"
      ]
     },
     "metadata": {
      "needs_background": "light"
     },
     "output_type": "display_data"
    },
    {
     "name": "stdout",
     "output_type": "stream",
     "text": [
      "CPU times: user 1h 24min 12s, sys: 1min, total: 1h 25min 13s\n",
      "Wall time: 1h 24min 15s\n"
     ]
    }
   ],
   "source": [
    "%%time\n",
    "razpon_N = np.logspace(1,8,20)\n",
    "potek_N = pd.DataFrame(index=razpon_N)\n",
    "foo = []\n",
    "for i, N in enumerate(razpon_N):\n",
    "    print(f\"i: {i} od 20\")\n",
    "    foo.append(momenta(N=N))\n",
    "potek_N[\"m_hat\"] = foo\n",
    "konc()\n",
    "potek_N.to_csv(\"podatki/momentn.csv\")\n",
    "\n",
    "\n",
    "potek_N.sort_index(inplace=True)\n",
    "plt.plot(potek_N.index.astype(int), potek_N.m_hat)\n",
    "plt.xlabel(r\"$N$\")\n",
    "plt.ylabel(r\"$\\hat{I}$\")\n",
    "plt.title(r\"Cenilka vztrajnostnega momenta, $N=10^6$\")\n",
    "plt.savefig(\"1-2-n.pdf\")\n",
    "plt.show()"
   ]
  },
  {
   "cell_type": "code",
   "execution_count": 13,
   "metadata": {},
   "outputs": [
    {
     "name": "stdout",
     "output_type": "stream",
     "text": [
      "i: 0 od 50\n",
      "i: 1 od 50\n",
      "i: 2 od 50\n",
      "i: 3 od 50\n",
      "i: 4 od 50\n",
      "i: 5 od 50\n",
      "i: 6 od 50\n",
      "i: 7 od 50\n",
      "i: 8 od 50\n",
      "i: 9 od 50\n",
      "i: 10 od 50\n",
      "i: 11 od 50\n",
      "i: 12 od 50\n",
      "i: 13 od 50\n",
      "i: 14 od 50\n",
      "i: 15 od 50\n",
      "i: 16 od 50\n",
      "i: 17 od 50\n",
      "i: 18 od 50\n",
      "i: 19 od 50\n",
      "i: 20 od 50\n",
      "i: 21 od 50\n",
      "i: 22 od 50\n",
      "i: 23 od 50\n",
      "i: 24 od 50\n",
      "i: 25 od 50\n",
      "i: 26 od 50\n",
      "i: 27 od 50\n",
      "i: 28 od 50\n",
      "i: 29 od 50\n",
      "i: 30 od 50\n",
      "i: 31 od 50\n",
      "i: 32 od 50\n",
      "i: 33 od 50\n",
      "i: 34 od 50\n",
      "i: 35 od 50\n",
      "i: 36 od 50\n",
      "i: 37 od 50\n",
      "i: 38 od 50\n",
      "i: 39 od 50\n",
      "i: 40 od 50\n",
      "i: 41 od 50\n",
      "i: 42 od 50\n",
      "i: 43 od 50\n",
      "i: 44 od 50\n",
      "i: 45 od 50\n",
      "i: 46 od 50\n",
      "i: 47 od 50\n",
      "i: 48 od 50\n",
      "i: 49 od 50\n"
     ]
    },
    {
     "data": {
      "image/png": "[encoded data removed]",
      "text/plain": [
       "<Figure size 432x288 with 1 Axes>"
      ]
     },
     "metadata": {
      "needs_background": "light"
     },
     "output_type": "display_data"
    },
    {
     "name": "stdout",
     "output_type": "stream",
     "text": [
      "CPU times: user 4h 10min 9s, sys: 2min 24s, total: 4h 12min 34s\n",
      "Wall time: 4h 21min 22s\n"
     ]
    }
   ],
   "source": [
    "%%time\n",
    "razpon_p = np.linspace(0, 5, 50)\n",
    "potek_p = pd.DataFrame(index=razpon_p)\n",
    "foo = []\n",
    "for i, p in enumerate(razpon_p):\n",
    "    print(f\"i: {i} od 50\")\n",
    "    foo.append(momenta(N=1e7, p=p))\n",
    "potek_p[\"m_hat\"] = foo\n",
    "#konc()\n",
    "potek_p.to_csv(\"podatki/momentp2.csv\")\n",
    "\n",
    "\n",
    "potek_p.sort_index(inplace=True)\n",
    "plt.plot(potek_p.index, potek_p.m_hat)\n",
    "plt.xlabel(r\"$p$\")\n",
    "plt.ylabel(r\"$\\hat{I}$\")\n",
    "plt.title(r\"Cenilka vztrajnostnega momenta, $N=10^7$\")\n",
    "plt.savefig(\"1-2-p.pdf\")\n",
    "plt.show()"
   ]
  },
  {
   "cell_type": "code",
   "execution_count": null,
   "metadata": {},
   "outputs": [],
   "source": []
  }
 ],
 "metadata": {
  "kernelspec": {
   "display_name": "Python 3",
   "language": "python",
   "name": "python3"
  },
  "language_info": {
   "codemirror_mode": {
    "name": "ipython",
    "version": 3
   },
   "file_extension": ".py",
   "mimetype": "text/x-python",
   "name": "python",
   "nbconvert_exporter": "python",
   "pygments_lexer": "ipython3",
   "version": "3.6.6"
  }
 },
 "nbformat": 4,
 "nbformat_minor": 2
}
