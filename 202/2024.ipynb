{
 "cells": [
  {
   "cell_type": "code",
   "execution_count": 1,
   "metadata": {},
   "outputs": [],
   "source": [
    "import pandas as pd\n",
    "import matplotlib.pyplot as plt\n",
    "import numpy as np\n",
    "from scipy.integrate import odeint, ode\n",
    "\n",
    "import smplotlib\n",
    "# plt.style.use(\"ggplot\")\n",
    "# plt.rcParams['font.family'] = \"serif\"\n",
    "# plt.rcParams['font.size'] = 13\n",
    "# plt.rcParams.update({'figure.autolayout': True})\n",
    "# plt.rc('text', usetex=True)\n",
    "pd.set_option('display.max_columns', 50)\n",
    "%config IPCompleter.greedy=True"
   ]
  },
  {
   "cell_type": "code",
   "execution_count": 39,
   "metadata": {},
   "outputs": [
    {
     "name": "stderr",
     "output_type": "stream",
     "text": [
      "capi_return is NULL\n",
      "Call-back cb_fcn_in___user__routines failed.\n"
     ]
    },
    {
     "ename": "KeyboardInterrupt",
     "evalue": "",
     "output_type": "error",
     "traceback": [
      "\u001b[0;31m---------------------------------------------------------------------------\u001b[0m",
      "\u001b[0;31mKeyboardInterrupt\u001b[0m                         Traceback (most recent call last)",
      "Cell \u001b[0;32mIn[39], line 53\u001b[0m\n\u001b[1;32m     50\u001b[0m \u001b[38;5;28;01mfor\u001b[39;00m i, beta \u001b[38;5;129;01min\u001b[39;00m \u001b[38;5;28menumerate\u001b[39m([\u001b[38;5;241m1000\u001b[39m, \u001b[38;5;241m1000\u001b[39m, \u001b[38;5;241m1000\u001b[39m, \u001b[38;5;241m100\u001b[39m, \u001b[38;5;241m100\u001b[39m, \u001b[38;5;241m100\u001b[39m, \u001b[38;5;241m100\u001b[39m, \u001b[38;5;241m10\u001b[39m, \u001b[38;5;241m10\u001b[39m, \u001b[38;5;241m10\u001b[39m, \u001b[38;5;241m10\u001b[39m]):\n\u001b[1;32m     51\u001b[0m     \u001b[38;5;66;03m# beta = 30\u001b[39;00m\n\u001b[1;32m     52\u001b[0m     y_final \u001b[38;5;241m=\u001b[39m \u001b[38;5;241m-\u001b[39m\u001b[38;5;241m0.8\u001b[39m\n\u001b[0;32m---> 53\u001b[0m     rez \u001b[38;5;241m=\u001b[39m \u001b[43mshoot\u001b[49m\u001b[43m(\u001b[49m\u001b[43mbeta\u001b[49m\u001b[43m,\u001b[49m\u001b[43m \u001b[49m\u001b[43my_final\u001b[49m\u001b[43m)\u001b[49m\n\u001b[1;32m     54\u001b[0m     trajektorija \u001b[38;5;241m=\u001b[39m get_trajectory(rez[\u001b[38;5;241m0\u001b[39m], rez[\u001b[38;5;241m1\u001b[39m], beta)\n\u001b[1;32m     55\u001b[0m     fig, ax \u001b[38;5;241m=\u001b[39m plt\u001b[38;5;241m.\u001b[39msubplots()\n",
      "Cell \u001b[0;32mIn[39], line 45\u001b[0m, in \u001b[0;36mshoot\u001b[0;34m(beta, y_final)\u001b[0m\n\u001b[1;32m     43\u001b[0m \u001b[38;5;28;01mfrom\u001b[39;00m \u001b[38;5;21;01mscipy\u001b[39;00m\u001b[38;5;21;01m.\u001b[39;00m\u001b[38;5;21;01moptimize\u001b[39;00m \u001b[38;5;28;01mimport\u001b[39;00m root\n\u001b[1;32m     44\u001b[0m \u001b[38;5;28;01mfor\u001b[39;00m bleh \u001b[38;5;129;01min\u001b[39;00m \u001b[38;5;28mrange\u001b[39m(\u001b[38;5;241m100\u001b[39m):\n\u001b[0;32m---> 45\u001b[0m     rez \u001b[38;5;241m=\u001b[39m \u001b[43mroot\u001b[49m\u001b[43m(\u001b[49m\u001b[43m_fun_to_minimize\u001b[49m\u001b[43m,\u001b[49m\u001b[43m \u001b[49m\u001b[43m[\u001b[49m\u001b[43mnp\u001b[49m\u001b[38;5;241;43m.\u001b[39;49m\u001b[43mrandom\u001b[49m\u001b[38;5;241;43m.\u001b[39;49m\u001b[43mrand\u001b[49m\u001b[43m(\u001b[49m\u001b[43m)\u001b[49m\u001b[43m,\u001b[49m\u001b[43m \u001b[49m\u001b[43mnp\u001b[49m\u001b[38;5;241;43m.\u001b[39;49m\u001b[43mrandom\u001b[49m\u001b[38;5;241;43m.\u001b[39;49m\u001b[43mrand\u001b[49m\u001b[43m(\u001b[49m\u001b[43m)\u001b[49m\u001b[38;5;241;43m*\u001b[39;49m\u001b[43mnp\u001b[49m\u001b[38;5;241;43m.\u001b[39;49m\u001b[43mpi\u001b[49m\u001b[38;5;241;43m*\u001b[39;49m\u001b[38;5;241;43m2\u001b[39;49m\u001b[43m]\u001b[49m\u001b[43m,\u001b[49m\u001b[43m \u001b[49m\u001b[43margs\u001b[49m\u001b[38;5;241;43m=\u001b[39;49m\u001b[43m(\u001b[49m\u001b[43mbeta\u001b[49m\u001b[43m,\u001b[49m\u001b[43m \u001b[49m\u001b[43my_final\u001b[49m\u001b[43m)\u001b[49m\u001b[43m,\u001b[49m\u001b[43m \u001b[49m\u001b[43mtol\u001b[49m\u001b[38;5;241;43m=\u001b[39;49m\u001b[38;5;241;43m1e-15\u001b[39;49m\u001b[43m)\u001b[49m\n\u001b[1;32m     46\u001b[0m     \u001b[38;5;28;01mif\u001b[39;00m rez\u001b[38;5;241m.\u001b[39msuccess:\n\u001b[1;32m     47\u001b[0m         \u001b[38;5;28mprint\u001b[39m(\u001b[38;5;124mf\u001b[39m\u001b[38;5;124m\"\u001b[39m\u001b[38;5;124mInitial guesses converged after \u001b[39m\u001b[38;5;132;01m{\u001b[39;00mbleh\u001b[38;5;241m+\u001b[39m\u001b[38;5;241m1\u001b[39m\u001b[38;5;132;01m}\u001b[39;00m\u001b[38;5;124m tries.\u001b[39m\u001b[38;5;124m\"\u001b[39m)\n",
      "File \u001b[0;32m~/anaconda3/lib/python3.8/site-packages/scipy/optimize/_root.py:187\u001b[0m, in \u001b[0;36mroot\u001b[0;34m(fun, x0, args, method, jac, tol, callback, options)\u001b[0m\n\u001b[1;32m    184\u001b[0m         options\u001b[38;5;241m.\u001b[39msetdefault(\u001b[38;5;124m'\u001b[39m\u001b[38;5;124mfatol\u001b[39m\u001b[38;5;124m'\u001b[39m, np\u001b[38;5;241m.\u001b[39minf)\n\u001b[1;32m    186\u001b[0m \u001b[38;5;28;01mif\u001b[39;00m meth \u001b[38;5;241m==\u001b[39m \u001b[38;5;124m'\u001b[39m\u001b[38;5;124mhybr\u001b[39m\u001b[38;5;124m'\u001b[39m:\n\u001b[0;32m--> 187\u001b[0m     sol \u001b[38;5;241m=\u001b[39m \u001b[43m_root_hybr\u001b[49m\u001b[43m(\u001b[49m\u001b[43mfun\u001b[49m\u001b[43m,\u001b[49m\u001b[43m \u001b[49m\u001b[43mx0\u001b[49m\u001b[43m,\u001b[49m\u001b[43m \u001b[49m\u001b[43margs\u001b[49m\u001b[38;5;241;43m=\u001b[39;49m\u001b[43margs\u001b[49m\u001b[43m,\u001b[49m\u001b[43m \u001b[49m\u001b[43mjac\u001b[49m\u001b[38;5;241;43m=\u001b[39;49m\u001b[43mjac\u001b[49m\u001b[43m,\u001b[49m\u001b[43m \u001b[49m\u001b[38;5;241;43m*\u001b[39;49m\u001b[38;5;241;43m*\u001b[39;49m\u001b[43moptions\u001b[49m\u001b[43m)\u001b[49m\n\u001b[1;32m    188\u001b[0m \u001b[38;5;28;01melif\u001b[39;00m meth \u001b[38;5;241m==\u001b[39m \u001b[38;5;124m'\u001b[39m\u001b[38;5;124mlm\u001b[39m\u001b[38;5;124m'\u001b[39m:\n\u001b[1;32m    189\u001b[0m     sol \u001b[38;5;241m=\u001b[39m _root_leastsq(fun, x0, args\u001b[38;5;241m=\u001b[39margs, jac\u001b[38;5;241m=\u001b[39mjac, \u001b[38;5;241m*\u001b[39m\u001b[38;5;241m*\u001b[39moptions)\n",
      "File \u001b[0;32m~/anaconda3/lib/python3.8/site-packages/scipy/optimize/minpack.py:237\u001b[0m, in \u001b[0;36m_root_hybr\u001b[0;34m(func, x0, args, jac, col_deriv, xtol, maxfev, band, eps, factor, diag, **unknown_options)\u001b[0m\n\u001b[1;32m    235\u001b[0m     \u001b[38;5;28;01mif\u001b[39;00m maxfev \u001b[38;5;241m==\u001b[39m \u001b[38;5;241m0\u001b[39m:\n\u001b[1;32m    236\u001b[0m         maxfev \u001b[38;5;241m=\u001b[39m \u001b[38;5;241m200\u001b[39m \u001b[38;5;241m*\u001b[39m (n \u001b[38;5;241m+\u001b[39m \u001b[38;5;241m1\u001b[39m)\n\u001b[0;32m--> 237\u001b[0m     retval \u001b[38;5;241m=\u001b[39m \u001b[43m_minpack\u001b[49m\u001b[38;5;241;43m.\u001b[39;49m\u001b[43m_hybrd\u001b[49m\u001b[43m(\u001b[49m\u001b[43mfunc\u001b[49m\u001b[43m,\u001b[49m\u001b[43m \u001b[49m\u001b[43mx0\u001b[49m\u001b[43m,\u001b[49m\u001b[43m \u001b[49m\u001b[43margs\u001b[49m\u001b[43m,\u001b[49m\u001b[43m \u001b[49m\u001b[38;5;241;43m1\u001b[39;49m\u001b[43m,\u001b[49m\u001b[43m \u001b[49m\u001b[43mxtol\u001b[49m\u001b[43m,\u001b[49m\u001b[43m \u001b[49m\u001b[43mmaxfev\u001b[49m\u001b[43m,\u001b[49m\n\u001b[1;32m    238\u001b[0m \u001b[43m                             \u001b[49m\u001b[43mml\u001b[49m\u001b[43m,\u001b[49m\u001b[43m \u001b[49m\u001b[43mmu\u001b[49m\u001b[43m,\u001b[49m\u001b[43m \u001b[49m\u001b[43mepsfcn\u001b[49m\u001b[43m,\u001b[49m\u001b[43m \u001b[49m\u001b[43mfactor\u001b[49m\u001b[43m,\u001b[49m\u001b[43m \u001b[49m\u001b[43mdiag\u001b[49m\u001b[43m)\u001b[49m\n\u001b[1;32m    239\u001b[0m \u001b[38;5;28;01melse\u001b[39;00m:\n\u001b[1;32m    240\u001b[0m     _check_func(\u001b[38;5;124m'\u001b[39m\u001b[38;5;124mfsolve\u001b[39m\u001b[38;5;124m'\u001b[39m, \u001b[38;5;124m'\u001b[39m\u001b[38;5;124mfprime\u001b[39m\u001b[38;5;124m'\u001b[39m, Dfun, x0, args, n, (n, n))\n",
      "Cell \u001b[0;32mIn[39], line 40\u001b[0m, in \u001b[0;36mshoot.<locals>._fun_to_minimize\u001b[0;34m(arej, beta, y_final)\u001b[0m\n\u001b[1;32m     38\u001b[0m \u001b[38;5;28;01mdef\u001b[39;00m \u001b[38;5;21m_fun_to_minimize\u001b[39m(arej, beta, y_final):\n\u001b[1;32m     39\u001b[0m     F0, alfa0 \u001b[38;5;241m=\u001b[39m arej\n\u001b[0;32m---> 40\u001b[0m     xy \u001b[38;5;241m=\u001b[39m \u001b[43mget_end_point\u001b[49m\u001b[43m(\u001b[49m\u001b[43mF0\u001b[49m\u001b[43m,\u001b[49m\u001b[43m \u001b[49m\u001b[43malfa0\u001b[49m\u001b[43m,\u001b[49m\u001b[43m \u001b[49m\u001b[43mbeta\u001b[49m\u001b[43m)\u001b[49m[\u001b[38;5;241m-\u001b[39m\u001b[38;5;241m2\u001b[39m:]\n\u001b[1;32m     41\u001b[0m     xf, yf \u001b[38;5;241m=\u001b[39m xy[\u001b[38;5;241m0\u001b[39m], xy[\u001b[38;5;241m1\u001b[39m]\n\u001b[1;32m     42\u001b[0m     \u001b[38;5;28;01mreturn\u001b[39;00m [xf, yf\u001b[38;5;241m-\u001b[39my_final]\n",
      "Cell \u001b[0;32mIn[39], line 16\u001b[0m, in \u001b[0;36mget_end_point\u001b[0;34m(F0, alfa0, beta)\u001b[0m\n\u001b[1;32m     14\u001b[0m r \u001b[38;5;241m=\u001b[39m ode(odes)\u001b[38;5;241m.\u001b[39mset_integrator(\u001b[38;5;124m'\u001b[39m\u001b[38;5;124mdopri5\u001b[39m\u001b[38;5;124m'\u001b[39m)\n\u001b[1;32m     15\u001b[0m r\u001b[38;5;241m.\u001b[39mset_initial_value(initial, \u001b[38;5;241m0\u001b[39m)\u001b[38;5;241m.\u001b[39mset_f_params(beta)\n\u001b[0;32m---> 16\u001b[0m \u001b[38;5;28;01mreturn\u001b[39;00m \u001b[43mr\u001b[49m\u001b[38;5;241;43m.\u001b[39;49m\u001b[43mintegrate\u001b[49m\u001b[43m(\u001b[49m\u001b[38;5;241;43m1\u001b[39;49m\u001b[43m)\u001b[49m\n",
      "File \u001b[0;32m~/anaconda3/lib/python3.8/site-packages/scipy/integrate/_ode.py:433\u001b[0m, in \u001b[0;36mode.integrate\u001b[0;34m(self, t, step, relax)\u001b[0m\n\u001b[1;32m    430\u001b[0m     mth \u001b[38;5;241m=\u001b[39m \u001b[38;5;28mself\u001b[39m\u001b[38;5;241m.\u001b[39m_integrator\u001b[38;5;241m.\u001b[39mrun\n\u001b[1;32m    432\u001b[0m \u001b[38;5;28;01mtry\u001b[39;00m:\n\u001b[0;32m--> 433\u001b[0m     \u001b[38;5;28mself\u001b[39m\u001b[38;5;241m.\u001b[39m_y, \u001b[38;5;28mself\u001b[39m\u001b[38;5;241m.\u001b[39mt \u001b[38;5;241m=\u001b[39m \u001b[43mmth\u001b[49m\u001b[43m(\u001b[49m\u001b[38;5;28;43mself\u001b[39;49m\u001b[38;5;241;43m.\u001b[39;49m\u001b[43mf\u001b[49m\u001b[43m,\u001b[49m\u001b[43m \u001b[49m\u001b[38;5;28;43mself\u001b[39;49m\u001b[38;5;241;43m.\u001b[39;49m\u001b[43mjac\u001b[49m\u001b[43m \u001b[49m\u001b[38;5;129;43;01mor\u001b[39;49;00m\u001b[43m \u001b[49m\u001b[43m(\u001b[49m\u001b[38;5;28;43;01mlambda\u001b[39;49;00m\u001b[43m:\u001b[49m\u001b[43m \u001b[49m\u001b[38;5;28;43;01mNone\u001b[39;49;00m\u001b[43m)\u001b[49m\u001b[43m,\u001b[49m\n\u001b[1;32m    434\u001b[0m \u001b[43m                          \u001b[49m\u001b[38;5;28;43mself\u001b[39;49m\u001b[38;5;241;43m.\u001b[39;49m\u001b[43m_y\u001b[49m\u001b[43m,\u001b[49m\u001b[43m \u001b[49m\u001b[38;5;28;43mself\u001b[39;49m\u001b[38;5;241;43m.\u001b[39;49m\u001b[43mt\u001b[49m\u001b[43m,\u001b[49m\u001b[43m \u001b[49m\u001b[43mt\u001b[49m\u001b[43m,\u001b[49m\n\u001b[1;32m    435\u001b[0m \u001b[43m                          \u001b[49m\u001b[38;5;28;43mself\u001b[39;49m\u001b[38;5;241;43m.\u001b[39;49m\u001b[43mf_params\u001b[49m\u001b[43m,\u001b[49m\u001b[43m \u001b[49m\u001b[38;5;28;43mself\u001b[39;49m\u001b[38;5;241;43m.\u001b[39;49m\u001b[43mjac_params\u001b[49m\u001b[43m)\u001b[49m\n\u001b[1;32m    436\u001b[0m \u001b[38;5;28;01mexcept\u001b[39;00m \u001b[38;5;167;01mSystemError\u001b[39;00m \u001b[38;5;28;01mas\u001b[39;00m e:\n\u001b[1;32m    437\u001b[0m     \u001b[38;5;66;03m# f2py issue with tuple returns, see ticket 1187.\u001b[39;00m\n\u001b[1;32m    438\u001b[0m     \u001b[38;5;28;01mraise\u001b[39;00m \u001b[38;5;167;01mValueError\u001b[39;00m(\n\u001b[1;32m    439\u001b[0m         \u001b[38;5;124m'\u001b[39m\u001b[38;5;124mFunction to integrate must not return a tuple.\u001b[39m\u001b[38;5;124m'\u001b[39m\n\u001b[1;32m    440\u001b[0m     ) \u001b[38;5;28;01mfrom\u001b[39;00m \u001b[38;5;21;01me\u001b[39;00m\n",
      "File \u001b[0;32m~/anaconda3/lib/python3.8/site-packages/scipy/integrate/_ode.py:1176\u001b[0m, in \u001b[0;36mdopri5.run\u001b[0;34m(self, f, jac, y0, t0, t1, f_params, jac_params)\u001b[0m\n\u001b[1;32m   1175\u001b[0m \u001b[38;5;28;01mdef\u001b[39;00m \u001b[38;5;21mrun\u001b[39m(\u001b[38;5;28mself\u001b[39m, f, jac, y0, t0, t1, f_params, jac_params):\n\u001b[0;32m-> 1176\u001b[0m     x, y, iwork, istate \u001b[38;5;241m=\u001b[39m \u001b[38;5;28;43mself\u001b[39;49m\u001b[38;5;241;43m.\u001b[39;49m\u001b[43mrunner\u001b[49m\u001b[43m(\u001b[49m\u001b[38;5;241;43m*\u001b[39;49m\u001b[43m(\u001b[49m\u001b[43m(\u001b[49m\u001b[43mf\u001b[49m\u001b[43m,\u001b[49m\u001b[43m \u001b[49m\u001b[43mt0\u001b[49m\u001b[43m,\u001b[49m\u001b[43m \u001b[49m\u001b[43my0\u001b[49m\u001b[43m,\u001b[49m\u001b[43m \u001b[49m\u001b[43mt1\u001b[49m\u001b[43m)\u001b[49m\u001b[43m \u001b[49m\u001b[38;5;241;43m+\u001b[39;49m\n\u001b[1;32m   1177\u001b[0m \u001b[43m                                      \u001b[49m\u001b[38;5;28;43mtuple\u001b[39;49m\u001b[43m(\u001b[49m\u001b[38;5;28;43mself\u001b[39;49m\u001b[38;5;241;43m.\u001b[39;49m\u001b[43mcall_args\u001b[49m\u001b[43m)\u001b[49m\u001b[43m \u001b[49m\u001b[38;5;241;43m+\u001b[39;49m\u001b[43m \u001b[49m\u001b[43m(\u001b[49m\u001b[43mf_params\u001b[49m\u001b[43m,\u001b[49m\u001b[43m)\u001b[49m\u001b[43m)\u001b[49m\u001b[43m)\u001b[49m\n\u001b[1;32m   1178\u001b[0m     \u001b[38;5;28mself\u001b[39m\u001b[38;5;241m.\u001b[39mistate \u001b[38;5;241m=\u001b[39m istate\n\u001b[1;32m   1179\u001b[0m     \u001b[38;5;28;01mif\u001b[39;00m istate \u001b[38;5;241m<\u001b[39m \u001b[38;5;241m0\u001b[39m:\n",
      "Cell \u001b[0;32mIn[39], line 12\u001b[0m, in \u001b[0;36mget_end_point.<locals>.odes\u001b[0;34m(s, arej, beta)\u001b[0m\n\u001b[1;32m     10\u001b[0m alfapika \u001b[38;5;241m=\u001b[39m (beta\u001b[38;5;241m*\u001b[39mx\u001b[38;5;241m*\u001b[39mnp\u001b[38;5;241m.\u001b[39msin(alfa) \u001b[38;5;241m+\u001b[39m np\u001b[38;5;241m.\u001b[39mcos(alfa))\u001b[38;5;241m/\u001b[39mF\n\u001b[1;32m     11\u001b[0m xpika \u001b[38;5;241m=\u001b[39m np\u001b[38;5;241m.\u001b[39mcos(alfa)\n\u001b[0;32m---> 12\u001b[0m ypika \u001b[38;5;241m=\u001b[39m \u001b[43mnp\u001b[49m\u001b[38;5;241;43m.\u001b[39;49m\u001b[43msin\u001b[49m\u001b[43m(\u001b[49m\u001b[43malfa\u001b[49m\u001b[43m)\u001b[49m\n\u001b[1;32m     13\u001b[0m \u001b[38;5;28;01mreturn\u001b[39;00m [Fpika, alfapika, xpika, ypika]\n",
      "\u001b[0;31mKeyboardInterrupt\u001b[0m: "
     ]
    }
   ],
   "source": [
    "SRESOLUTION = 100\n",
    "\n",
    "def get_end_point( F0, alfa0, beta):\n",
    "    \"\"\"Integrates based on given initial conditions and beta.\n",
    "    Returns array Faxy.\"\"\"\n",
    "    initial = [F0, alfa0, 0, 0]\n",
    "    def odes(s, arej, beta):\n",
    "        F, alfa, x, y = arej\n",
    "        Fpika = - beta*x*np.cos(alfa) + np.sin(alfa)\n",
    "        alfapika = (beta*x*np.sin(alfa) + np.cos(alfa))/F\n",
    "        xpika = np.cos(alfa)\n",
    "        ypika = np.sin(alfa)\n",
    "        return [Fpika, alfapika, xpika, ypika]\n",
    "    r = ode(odes).set_integrator('dopri5')\n",
    "    r.set_initial_value(initial, 0).set_f_params(beta)\n",
    "    return r.integrate(1)\n",
    "def get_trajectory(F0, alfa0, beta):\n",
    "    \"\"\"Integrates based on given initial conditions and beta.\n",
    "    Returns trajectory Faxy.\"\"\"\n",
    "    initial = [F0, alfa0, 0, 0]\n",
    "    def odes(s, arej, beta):\n",
    "        F, alfa, x, y = arej\n",
    "        Fpika = - beta*x*np.cos(alfa) + np.sin(alfa)\n",
    "        alfapika = (beta*x*np.sin(alfa) + np.cos(alfa))/F\n",
    "        xpika = np.cos(alfa)\n",
    "        ypika = np.sin(alfa)\n",
    "        return [Fpika, alfapika, xpika, ypika]\n",
    "    r = ode(odes).set_integrator('dopri5')\n",
    "    r.set_initial_value(initial, 0).set_f_params(beta)\n",
    "    ss = np.linspace(0,1, 2000)\n",
    "    sol = np.zeros((ss.shape[0],4))\n",
    "    for i, t in enumerate(ss):\n",
    "        sol[i,:] = r.integrate(t)\n",
    "    return sol\n",
    "def shoot(beta, y_final):\n",
    "    \"\"\"For a given beta and y_final finds initial conditions\n",
    "    of F0 and alfa0 and promplty returns them, if found, else None.\"\"\"\n",
    "    def _fun_to_minimize(arej, beta, y_final):\n",
    "        F0, alfa0 = arej\n",
    "        xy = get_end_point(F0, alfa0, beta)[-2:]\n",
    "        xf, yf = xy[0], xy[1]\n",
    "        return [xf, yf-y_final]\n",
    "    from scipy.optimize import root\n",
    "    for bleh in range(100):\n",
    "        rez = root(_fun_to_minimize, [np.random.rand(), np.random.rand()*np.pi*2], args=(beta, y_final), tol=1e-15)\n",
    "        if rez.success:\n",
    "            print(f\"Initial guesses converged after {bleh+1} tries.\")\n",
    "            return rez.x\n",
    "\n",
    "\n",
    "for i, beta in enumerate([1000, 1000, 1000, 100, 100, 100, 100, 10, 10, 10, 10]):\n",
    "    # beta = 30\n",
    "    y_final = -0.8\n",
    "    rez = shoot(beta, y_final)\n",
    "    trajektorija = get_trajectory(rez[0], rez[1], beta)\n",
    "    fig, ax = plt.subplots()\n",
    "    ax.set_title(fr\"$F_0={{{rez[0]:0.2f}}}, \\alpha_0={{{rez[1]:0.2f}}}, \\beta={{{beta}}}$\")\n",
    "    ax.plot(trajektorija[:,2], trajektorija[:,3])\n",
    "    # ax.set_aspect('equal')\n",
    "    # plt.savefig(f\"images/2024-1-trajektorija{i}.pdf\")\n",
    "    plt.show()"
   ]
  },
  {
   "cell_type": "code",
   "execution_count": 50,
   "metadata": {},
   "outputs": [
    {
     "name": "stdout",
     "output_type": "stream",
     "text": [
      "Initial guesses converged after 5 tries.\n"
     ]
    },
    {
     "data": {
      "image/png": "[encoded data removed]",
      "text/plain": [
       "<Figure size 600x600 with 1 Axes>"
      ]
     },
     "metadata": {},
     "output_type": "display_data"
    }
   ],
   "source": [
    "%matplotlib inline\n",
    "beta = 0.00\n",
    "y_final = -0.8\n",
    "rez = shoot(beta, y_final)\n",
    "trajektorija = get_trajectory(rez[0], rez[1], beta)\n",
    "fig, ax = plt.subplots()\n",
    "ax.set_title(fr\"$F_0={{{rez[0]:0.2f}}}, \\alpha_0={{{rez[1]:0.2f}}}, \\beta={{{beta}}}$\")\n",
    "ax.plot(trajektorija[:,2], trajektorija[:,3])\n",
    "# ax.set_aspect('equal')\n",
    "plt.savefig(f\"images/2024-1-trajektorija_limit_beta0.pdf\")\n",
    "plt.show()"
   ]
  },
  {
   "cell_type": "code",
   "execution_count": 70,
   "metadata": {},
   "outputs": [
    {
     "name": "stdout",
     "output_type": "stream",
     "text": [
      "Initial guesses converged after 13 tries.\n"
     ]
    },
    {
     "data": {
      "image/png": "[encoded data removed]",
      "text/plain": [
       "<Figure size 600x600 with 1 Axes>"
      ]
     },
     "metadata": {},
     "output_type": "display_data"
    }
   ],
   "source": [
    "%matplotlib inline\n",
    "beta = 10000000\n",
    "y_final = -0.8\n",
    "def shoot_nonrandom(beta, y_final):\n",
    "    \"\"\"For a given beta and y_final finds initial conditions\n",
    "    of F0 and alfa0 and promplty returns them, if found, else None.\"\"\"\n",
    "    def _fun_to_minimize(arej, beta, y_final):\n",
    "        F0, alfa0 = arej\n",
    "        xy = get_end_point(F0, alfa0, beta)[-2:]\n",
    "        xf, yf = xy[0], xy[1]\n",
    "        return [xf, yf-y_final]\n",
    "    from scipy.optimize import root\n",
    "    for bleh in range(100):\n",
    "        rez = root(_fun_to_minimize, [np.random.randint(10000, 10000000), 4], args=(beta, y_final), tol=1e-15)\n",
    "        if rez.success:\n",
    "            print(f\"Initial guesses converged after {bleh+1} tries.\")\n",
    "            return rez.x\n",
    "rez = shoot_nonrandom(beta, y_final)\n",
    "trajektorija = get_trajectory(rez[0], rez[1], beta)\n",
    "fig, ax = plt.subplots()\n",
    "ax.set_title(fr\"$F_0={{{rez[0]:0.2f}}}, \\alpha_0={{{rez[1]:0.2f}}}, \\beta={{{beta}}}$\")\n",
    "ax.plot(trajektorija[:,2], trajektorija[:,3])\n",
    "# ax.set_aspect('equal')\n",
    "plt.savefig(f\"images/2024-1-trajektorija_limit_betainf.pdf\")\n",
    "plt.show()"
   ]
  },
  {
   "cell_type": "code",
   "execution_count": null,
   "metadata": {},
   "outputs": [],
   "source": [
    "\n",
    "betas = np.linspace(0.01, 100, 100)\n",
    "l_avgs = []\n",
    "l_stds = []\n",
    "for beta in betas:\n",
    "    results = []\n",
    "    for i in range(10):\n",
    "        y_final = -0.8\n",
    "        rez = shoot(beta, y_final)\n",
    "        trajektorija = get_trajectory(rez[0], rez[1], beta)\n",
    "        x, y = trajektorija[:, 2], trajektorija[:, 3]\n",
    "        l = np.sqrt(np.diff(x)**2 + np.diff(y)**2)\n",
    "        results.append(l.sum())\n",
    "    l_avgs.append(\n",
    "        np.mean(results)\n",
    "    )\n",
    "    l_stds.append(np.std(results))\n",
    "\n"
   ]
  },
  {
   "cell_type": "code",
   "execution_count": 76,
   "metadata": {},
   "outputs": [
    {
     "data": {
      "image/png": "[encoded data removed]",
      "text/plain": [
       "<Figure size 600x600 with 1 Axes>"
      ]
     },
     "metadata": {},
     "output_type": "display_data"
    }
   ],
   "source": [
    "betas = np.array(betas)\n",
    "l_stds = np.array(l_stds)\n",
    "l_avgs= np.array(l_avgs)\n",
    "\n",
    "\n",
    "plt.errorbar(betas[l_stds<1e-4], y=l_avgs[l_stds<1e-4], yerr=l_stds[l_stds<1e-4], ecolor=\"k\", color=\"k\")\n",
    "plt.xlabel(r\"$\\beta$\")\n",
    "plt.ylabel(r\"$l$\")\n",
    "plt.savefig(\"images/2024-1-ohranitev_dolzine.pdf\")\n",
    "plt.show()"
   ]
  },
  {
   "cell_type": "markdown",
   "metadata": {},
   "source": [
    "## Pomožne funkcije za opis trajektorije:"
   ]
  },
  {
   "cell_type": "code",
   "execution_count": 3,
   "metadata": {},
   "outputs": [],
   "source": [
    "def get_shape(trajektorija):\n",
    "    \"\"\"Calculates number of times the shape crosses x=0 line.\n",
    "    Inspired by https://stackoverflow.com/questions/2652368/how-to-detect-a-sign-change-for-elements-in-a-numpy-array\"\"\"\n",
    "    x = trajektorija[:,2]\n",
    "    asign = np.sign(x)\n",
    "    signchange = ((np.roll(asign, 1) - asign) != 0).astype(int)\n",
    "    return np.sum(signchange)\n",
    "def get_y_min(trajektorija):\n",
    "    return np.min(trajektorija[:,3])\n",
    "def get_x_max(trajektorija):\n",
    "    abs_x = np.abs(trajektorija[:,2])\n",
    "    return np.max(abs_x)"
   ]
  },
  {
   "cell_type": "markdown",
   "metadata": {},
   "source": [
    "### Loop za $y_{final}$ in $\\beta$:"
   ]
  },
  {
   "cell_type": "code",
   "execution_count": 34,
   "metadata": {},
   "outputs": [
    {
     "data": {
      "text/plain": [
       "(10000, 5)"
      ]
     },
     "execution_count": 34,
     "metadata": {},
     "output_type": "execute_result"
    }
   ],
   "source": [
    "rezults.shape"
   ]
  },
  {
   "cell_type": "code",
   "execution_count": 4,
   "metadata": {},
   "outputs": [],
   "source": [
    "try:\n",
    "    rezults = np.loadtxt(\"2020-rezults100.txt\")\n",
    "except:\n",
    "    M = 100\n",
    "    yfs = np.linspace(-1, -.1, M)\n",
    "    betas = np.logspace(-1, 2, M)\n",
    "    rezults = np.empty((M**2, 5))\n",
    "    i = 0\n",
    "    for yf in yfs:\n",
    "        for beta in betas:\n",
    "            [F0, alfa], trajektorija = trajectory(beta, yf)\n",
    "            rezults[i,:] = yf, beta, get_shape(trajektorija), get_y_min(trajektorija), get_x_max(trajektorija)\n",
    "            i += 1\n",
    "            if i%1000==0:\n",
    "                print(f\"{i*100/M**2:0.02}%\", end=\"   \")\n",
    "    np.savetxt(f\"2020-rezults{M}.txt\", rezults)"
   ]
  },
  {
   "cell_type": "code",
   "execution_count": 5,
   "metadata": {
    "collapsed": true,
    "jupyter": {
     "outputs_hidden": true,
     "source_hidden": true
    }
   },
   "outputs": [],
   "source": [
    "# from scipy.interpolate import griddata\n",
    "# x,y,z = rezults[:,0],rezults[:,1],rezults[:,2]\n",
    "\n",
    "# yy, xx = np.meshgrid(y,x)\n",
    "# zz = griddata((x,y),z,(xx,yy))\n",
    "\n",
    "# # plt.contourf(xx,yy,zz-2, cmap='RdBu') # if you want contour plot\n",
    "# plt.imshow(zz)\n",
    "# plt.colorbar()\n",
    "# plt.title(r\"# prehodov preko $x=0$\")\n",
    "# plt.xlabel(r\"$y_{\\mathrm{ Final}}$\")\n",
    "# plt.ylabel(r\"$\\beta$\")\n",
    "\n",
    "# plt.savefig(\"images/2024-1-fazniportret_prehodi3.pdf\")\n",
    "# plt.show()"
   ]
  },
  {
   "cell_type": "code",
   "execution_count": 6,
   "metadata": {
    "collapsed": true,
    "jupyter": {
     "outputs_hidden": true,
     "source_hidden": true
    }
   },
   "outputs": [],
   "source": [
    "# from scipy.interpolate import griddata\n",
    "# x,y,z = rezults[:,0],rezults[:,1],rezults[:,3]\n",
    "\n",
    "# yy, xx = np.meshgrid(y,x)\n",
    "# zz = griddata((x,y),z,(xx,yy))\n",
    "\n",
    "# plt.contourf(xx,yy,zz, cmap='RdBu') # if you want contour plot\n",
    "# #plt.imshow(zz)\n",
    "# plt.colorbar()\n",
    "# plt.title(r\"$y_{\\mathrm{ min}}$\")\n",
    "# plt.xlabel(r\"$y_{\\mathrm{ Final}}$\")\n",
    "# plt.ylabel(r\"$\\beta$\")\n",
    "\n",
    "\n",
    "# plt.savefig(\"images/2024-1-fazniportret_ymin3.pdf\")\n",
    "# plt.show()"
   ]
  },
  {
   "cell_type": "code",
   "execution_count": 7,
   "metadata": {
    "collapsed": true,
    "jupyter": {
     "outputs_hidden": true,
     "source_hidden": true
    }
   },
   "outputs": [],
   "source": [
    "# from scipy.interpolate import griddata\n",
    "# x,y,z = rezults[:,0],rezults[:,1],rezults[:,4]\n",
    "\n",
    "# yy, xx = np.meshgrid(y,x)\n",
    "# zz = griddata((x,y),z,(xx,yy))\n",
    "\n",
    "# plt.contourf(xx,yy,zz, cmap='RdBu') # if you want contour plot\n",
    "# #plt.imshow(zz)\n",
    "# plt.colorbar()\n",
    "# plt.title(r\"$\\left|x_{\\mathrm{ max}}\\right|$\")\n",
    "# plt.xlabel(r\"$y_{\\mathrm{ Final}}$\")\n",
    "# plt.ylabel(r\"$\\beta$\")\n",
    "\n",
    "# plt.savefig(\"images/2024-1-fazniportret_xmax3.pdf\")\n",
    "# plt.show()"
   ]
  },
  {
   "cell_type": "code",
   "execution_count": 8,
   "metadata": {},
   "outputs": [],
   "source": [
    "# # rezults = np.loadtxt(\"2020-rezults100.txt\")\n",
    "# rezults[:2,:]"
   ]
  },
  {
   "cell_type": "code",
   "execution_count": 17,
   "metadata": {},
   "outputs": [],
   "source": [
    "%matplotlib qt\n",
    "from mpl_toolkits.mplot3d import Axes3D\n",
    "import matplotlib.ticker as mticker\n",
    "def log_tick_formatter(val, pos=None):\n",
    "    return \"{:0.2f}\".format(10**val)\n",
    "import matplotlib.colors\n",
    "data = rezults[:,2]\n",
    "colormap = plt.get_cmap(\"Oranges\")\n",
    "norm = matplotlib.colors.Normalize(vmin=min(data), vmax=max(data))\n",
    "\n",
    "\n",
    "fig = plt.figure()\n",
    "ax = fig.add_subplot(111, projection='3d')\n",
    "ax.yaxis.set_major_formatter(mticker.FuncFormatter(log_tick_formatter))\n",
    "x,y,z = rezults[:,0],np.log10(rezults[:,1]),data\n",
    "ax.scatter(x,y,z, c=colormap(norm(data)))\n",
    "ax.set_title(\"Oblika - spremembe predznaka\")\n",
    "ax.set_xlabel(\"\\n\" + r\"$y_{\\mathrm{ Final}}$\")\n",
    "ax.set_ylabel(\"\\n\" + r\"$\\beta$\")\n",
    "plt.tight_layout()\n",
    "plt.show()"
   ]
  },
  {
   "cell_type": "code",
   "execution_count": 18,
   "metadata": {},
   "outputs": [],
   "source": [
    "%matplotlib qt\n",
    "from mpl_toolkits.mplot3d import Axes3D\n",
    "import matplotlib.ticker as mticker\n",
    "def log_tick_formatter(val, pos=None):\n",
    "    return \"{:0.2f}\".format(10**val)\n",
    "import matplotlib.colors\n",
    "data = rezults[:,3]\n",
    "colormap = plt.get_cmap(\"Oranges\")\n",
    "norm = matplotlib.colors.Normalize(vmin=min(data), vmax=max(data))\n",
    "\n",
    "\n",
    "fig = plt.figure()\n",
    "ax = fig.add_subplot(111, projection='3d')\n",
    "ax.yaxis.set_major_formatter(mticker.FuncFormatter(log_tick_formatter))\n",
    "x,y,z = rezults[:,0],np.log10(rezults[:,1]),data\n",
    "ax.scatter(x,y,z, c=colormap(norm(data)), )\n",
    "ax.set_title(\"\\n\"+ r\"$y_{\\mathrm{min}}$\")\n",
    "ax.set_xlabel(\"\\n\"+ r\"$y_{\\mathrm{ Final}}$\")\n",
    "ax.set_ylabel(\"\\n\"+ r\"$\\beta$\")\n",
    "\n",
    "plt.show()"
   ]
  },
  {
   "cell_type": "code",
   "execution_count": 19,
   "metadata": {},
   "outputs": [],
   "source": [
    "%matplotlib qt\n",
    "from mpl_toolkits.mplot3d import Axes3D\n",
    "import matplotlib.ticker as mticker\n",
    "def log_tick_formatter(val, pos=None):\n",
    "    return \"{:0.2f}\".format(10**val)\n",
    "import matplotlib.colors\n",
    "data = rezults[:,4]\n",
    "colormap = plt.get_cmap(\"Oranges\")\n",
    "norm = matplotlib.colors.Normalize(vmin=min(data), vmax=max(data))\n",
    "\n",
    "\n",
    "fig = plt.figure()\n",
    "ax = fig.add_subplot(111, projection='3d')\n",
    "ax.yaxis.set_major_formatter(mticker.FuncFormatter(log_tick_formatter))\n",
    "x,y,z = rezults[:,0],np.log10(rezults[:,1]),data\n",
    "ax.scatter(x,y,z, c=colormap(norm(data)))\n",
    "ax.set_title(\"\\n\" + r\"$x_{\\mathrm{max}}$\")\n",
    "ax.set_xlabel(\"\\n\" + r\"$y_{\\mathrm{ Final}}$\")\n",
    "ax.set_ylabel(\"\\n\" + r\"$\\beta$\")\n",
    "\n",
    "plt.show()"
   ]
  },
  {
   "cell_type": "markdown",
   "metadata": {},
   "source": [
    "# Druga naloga"
   ]
  },
  {
   "cell_type": "code",
   "execution_count": null,
   "metadata": {
    "collapsed": true,
    "jupyter": {
     "outputs_hidden": true,
     "source_hidden": true
    }
   },
   "outputs": [],
   "source": [
    "%matplotlib inline\n",
    "def U(x,y):\n",
    "    return 0.5*x**2+0.5*(y**2)+(x**2)*y-(y**3)/3\n",
    "\n",
    "def get_trajectory(H, y0, alpha, num_points=400, max_time=50):\n",
    "    \"\"\"Integrates based on given initial full energy,\n",
    "    direction alpha and vertical position y0.\"\"\"\n",
    "    x0 = 0\n",
    "    speed = np.sqrt(2*(H-U(x0,y0)))\n",
    "    u0 = speed*np.cos(alpha)\n",
    "    v0 = speed*np.sin(alpha)\n",
    "    initial = [x0, y0, u0, v0]\n",
    "    def odes(t, arej):\n",
    "        x,y,u,v = arej\n",
    "        xpika = u\n",
    "        ypika = v\n",
    "        upika = - x -2*x*y\n",
    "        vpika = -y-x**2+y**2\n",
    "        return [xpika,ypika,upika,vpika]\n",
    "    r = ode(odes).set_integrator('dopri5')\n",
    "    r.set_initial_value(initial, 0)\n",
    "    ss = np.linspace(0,max_time, num_points)\n",
    "    sol = np.empty((ss.shape[0],4))\n",
    "    for i, t in enumerate(ss):\n",
    "        sol[i,:] = r.integrate(t)\n",
    "    from collections import namedtuple\n",
    "    rezultat = namedtuple(\"Rezultat\", [\"x\",\"y\",\"u\",\"v\",\"param_dict\"])\n",
    "    return rezultat(sol[:,0],sol[:,1],sol[:,2],sol[:,3], {\"y0\":y0, \"H\":H, \"alpha\":alpha})\n",
    "\n",
    "rez = get_trajectory(0.01, 0.01, 0.01, max_time=900, num_points=2000)\n",
    "plt.plot(rez.x, rez.y)\n",
    "plt.title(fr\"\"\"Orbita, H={{{rez.param_dict['H']}}}, $y_0$={{{rez.param_dict['y0']}}}, $\\alpha$={{{rez.param_dict['alpha']}}} \"\"\")\n",
    "plt.axes().set_aspect('equal')\n",
    "plt.savefig(\"images/2024-2-trajektorija3.pdf\")\n",
    "plt.show()"
   ]
  },
  {
   "cell_type": "code",
   "execution_count": null,
   "metadata": {},
   "outputs": [],
   "source": [
    "class Trajektorija:\n",
    "    def __init__(self, H, y0, alpha, num_points=400, max_time=50, min_time=0):\n",
    "        self.H = H\n",
    "        self.y0 = y0\n",
    "        self.alpha = alpha\n",
    "        self.tranatu = None\n",
    "        self.num_points   =num_points\n",
    "        self.max_time   =max_time\n",
    "        self.min_time   =min_time\n",
    "    @staticmethod\n",
    "    def U(x,y):\n",
    "        return 0.5*x**2+0.5*(y**2)+(x**2)*y-(y**3)/3\n",
    "    def get_trajectory(self,):\n",
    "        \"\"\"Integrates based on given initial full energy,\n",
    "        direction alpha and vertical position y0.\"\"\"\n",
    "        x0 = 0\n",
    "        speed = np.sqrt(2*(self.H-Trajektorija.U(x0,self.y0)))\n",
    "        u0 = speed*np.cos(self.alpha)\n",
    "        v0 = speed*np.sin(self.alpha)\n",
    "        initial = [x0, self.y0, u0, v0]\n",
    "        def odes(t, arej):\n",
    "            x,y,u,v = arej\n",
    "            xpika = u\n",
    "            ypika = v\n",
    "            upika = - x -2*x*y\n",
    "            vpika = -y-x**2+y**2\n",
    "            return [xpika,ypika,upika,vpika]\n",
    "        r = ode(odes).set_integrator('dopri5')\n",
    "        r.set_initial_value(initial, 0)\n",
    "        ss = np.linspace(self.min_time,self.max_time, self.num_points)\n",
    "        sol = np.empty((ss.shape[0],4))\n",
    "        rezs = []\n",
    "        for i, t in enumerate(ss):\n",
    "            sol[i,:] = r.integrate(t)\n",
    "            if i==0:\n",
    "                continue\n",
    "            if (sol[i-1,0] < 0) and (sol[i,0] >= 0):\n",
    "                    alpha = abs(sol[i-1,0])/(ss[i]-ss[i-1])\n",
    "                    rezs.append(\n",
    "                    [alpha*sol[i-1,1]+(1-alpha)*sol[i,1], alpha*sol[i-1, 3]+(1-alpha)*sol[i, 3]])\n",
    "        from collections import namedtuple\n",
    "        rezultat = namedtuple(\"Rezultat\", [\"x\",\"y\",\"u\",\"v\",\"t\",\"param_dict\"])\n",
    "        self.tranatu = rezultat(sol[:,0],sol[:,1],sol[:,2],sol[:,3], ss, {\"y0\":self.y0, \"H\":self.H, \"alpha\":self.alpha})\n",
    "        if len(rezs)!=0:\n",
    "            rezs = np.array(rezs)\n",
    "            self.poincare = namedtuple(\"poincs\", [\"y\",\"v\"])(rezs[:,0], rezs[:,1])\n",
    "        else:\n",
    "            self.poincare = namedtuple(\"poincs\", [\"y\",\"v\"])([], [])"
   ]
  },
  {
   "cell_type": "code",
   "execution_count": null,
   "metadata": {},
   "outputs": [],
   "source": [
    "\n",
    "prva = Trajektorija(0.0097, 0.0955, 3.142, max_time=400, num_points=1000)\n",
    "prva.get_trajectory()\n",
    "#prva.get_trajectory()\n",
    "fig, [ax1, ax2] = plt.subplots(ncols=2)\n",
    "plt.suptitle(fr\"Trajektorija za H={{{prva.H}}}, $y_0$={{{prva.y0}}}, alfa={{{prva.alpha:0.3}}}, t={{{prva.max_time}}}\")\n",
    "ax1.set_title(\"Trajektorija\")\n",
    "ax1.plot(prva.tranatu.x, prva.tranatu.y)\n",
    "ax1.set_xlabel(\"x\")\n",
    "ax1.set_ylabel(\"y\")\n",
    "ax1.set_aspect(\"equal\")\n",
    "ax2.set_title(\"Poincaréjev presek\")\n",
    "ax2.scatter(prva.poincare.y, prva.poincare.v,s=1)\n",
    "ax2.set_xlabel(\"y\")\n",
    "ax2.set_ylabel(\"v\")\n",
    "ax2.set_aspect(\"equal\")\n",
    "\n",
    "plt.show()"
   ]
  },
  {
   "cell_type": "code",
   "execution_count": null,
   "metadata": {},
   "outputs": [],
   "source": [
    "def funkc(arej):\n",
    "    H,y0, alfa = arej\n",
    "    p = Trajektorija(H, y0, alfa, max_time=200, num_points=1000)\n",
    "    p.get_trajectory()\n",
    "    return np.std(p.poincare.y)+np.std(p.poincare.v)\n",
    "from scipy.optimize import minimize\n",
    "res = minimize(funkc, x0=[0.001, 0.096, 3.142])"
   ]
  },
  {
   "cell_type": "code",
   "execution_count": null,
   "metadata": {},
   "outputs": [],
   "source": [
    "rez.x"
   ]
  },
  {
   "cell_type": "code",
   "execution_count": null,
   "metadata": {},
   "outputs": [],
   "source": [
    "prva = Trajektorija(*rez.x, max_time=400, num_points=1000)\n",
    "prva.get_trajectory()\n",
    "#prva.get_trajectory()\n",
    "fig, [ax1, ax2] = plt.subplots(ncols=2)\n",
    "plt.suptitle(fr\"Trajektorija za H={{{prva.H:0.2}}}, $y_0$={{{prva.y0:0.2}}}, alfa={{{prva.alpha:0.3}}}, t={{{prva.max_time}}}\")\n",
    "ax1.set_title(\"Trajektorija\")\n",
    "ax1.plot(prva.tranatu.x, prva.tranatu.y)\n",
    "ax1.set_xlabel(\"x\")\n",
    "ax1.set_ylabel(\"y\")\n",
    "ax1.set_aspect(\"equal\")\n",
    "ax2.set_title(\"Poincaréjev presek\")\n",
    "ax2.scatter(prva.poincare.y, prva.poincare.v,s=1)\n",
    "ax2.set_xlabel(\"y\")\n",
    "ax2.set_ylabel(\"v\")\n",
    "ax2.set_aspect(\"equal\")\n",
    "\n",
    "plt.show()"
   ]
  },
  {
   "cell_type": "code",
   "execution_count": null,
   "metadata": {},
   "outputs": [],
   "source": []
  }
 ],
 "metadata": {
  "kernelspec": {
   "display_name": "Python 3",
   "language": "python",
   "name": "python3"
  },
  "language_info": {
   "codemirror_mode": {
    "name": "ipython",
    "version": 3
   },
   "file_extension": ".py",
   "mimetype": "text/x-python",
   "name": "python",
   "nbconvert_exporter": "python",
   "pygments_lexer": "ipython3",
   "version": "3.8.13"
  }
 },
 "nbformat": 4,
 "nbformat_minor": 4
}
