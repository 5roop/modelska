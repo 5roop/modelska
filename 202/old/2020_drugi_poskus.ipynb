{
 "cells": [
  {
   "cell_type": "code",
   "execution_count": 7,
   "metadata": {},
   "outputs": [],
   "source": [
    "import pandas as pd\n",
    "import matplotlib.pyplot as plt\n",
    "import numpy as np\n",
    "from scipy.integrate import odeint, ode\n",
    "\n",
    "plt.style.use(\"ggplot\")\n",
    "plt.rcParams['font.family'] = \"serif\"\n",
    "plt.rcParams['font.size'] = 13\n",
    "plt.rcParams.update({'figure.autolayout': True})\n",
    "plt.rc('text', usetex=True)\n",
    "pd.set_option('display.max_columns', 50)\n",
    "%config IPCompleter.greedy=True"
   ]
  },
  {
   "cell_type": "code",
   "execution_count": 8,
   "metadata": {},
   "outputs": [
    {
     "name": "stderr",
     "output_type": "stream",
     "text": [
      "//home/peter/anaconda3/lib/python3.7/site-packages/scipy/integrate/_ode.py:1177: UserWarning: dopri5: step size becomes too small\n",
      "  self.messages.get(istate, unexpected_istate_msg)))\n"
     ]
    }
   ],
   "source": [
    "SRESOLUTION = 100\n",
    "\n",
    "\n",
    "        \n",
    "def trajectory(beta, y_final):\n",
    "    def get_end_point( F0, alfa0, beta):\n",
    "        \"\"\"Integrates based on given initial conditions and beta.\n",
    "        Returns array Faxy.\"\"\"\n",
    "        initial = [F0, alfa0, 0, 0]\n",
    "        def odes(s, arej, beta):\n",
    "            F, alfa, x, y = arej\n",
    "            Fpika = - beta*x*np.cos(alfa) + np.sin(alfa)\n",
    "            alfapika = (beta*x*np.sin(alfa) + np.cos(alfa))/F\n",
    "            xpika = np.cos(alfa)\n",
    "            ypika = np.sin(alfa)\n",
    "            return [Fpika, alfapika, xpika, ypika]\n",
    "        r = ode(odes).set_integrator('dopri5')\n",
    "        r.set_initial_value(initial, 0).set_f_params(beta)\n",
    "        return r.integrate(1)\n",
    "    def get_trajectory(F0, alfa0, beta):\n",
    "        \"\"\"Integrates based on given initial conditions and beta.\n",
    "        Returns trajectory Faxy.\"\"\"\n",
    "        initial = [F0, alfa0, 0, 0]\n",
    "        def odes(s, arej, beta):\n",
    "            F, alfa, x, y = arej\n",
    "            Fpika = - beta*x*np.cos(alfa) + np.sin(alfa)\n",
    "            alfapika = (beta*x*np.sin(alfa) + np.cos(alfa))/F\n",
    "            xpika = np.cos(alfa)\n",
    "            ypika = np.sin(alfa)\n",
    "            return [Fpika, alfapika, xpika, ypika]\n",
    "        r = ode(odes).set_integrator('dopri5')\n",
    "        r.set_initial_value(initial, 0).set_f_params(beta)\n",
    "        ss = np.linspace(0,1, 200)\n",
    "        sol = np.zeros((ss.shape[0],4))\n",
    "        for i, t in enumerate(ss):\n",
    "            sol[i,:] = r.integrate(t)\n",
    "        return sol\n",
    "    def shoot(beta, y_final):\n",
    "        \"\"\"For a given beta and y_final finds initial conditions\n",
    "        of F0 and alfa0 and promplty returns them, if found, else None.\"\"\"\n",
    "        def _fun_to_minimize(arej, beta, y_final):\n",
    "            F0, alfa0 = arej\n",
    "            xy = get_end_point(F0, alfa0, beta)[-2:]\n",
    "            xf, yf = xy[0], xy[1]\n",
    "            return [xf, yf-y_final]\n",
    "        from scipy.optimize import root\n",
    "        for bleh in range(100):\n",
    "            rez = root(_fun_to_minimize, [np.random.rand(), np.random.rand()*np.pi*2], args=(beta, y_final))\n",
    "            if rez.success:\n",
    "                #print(f\"Initial guesses converged after {bleh+1} tries.\")\n",
    "                return rez.x\n",
    "    \n",
    "    params = shoot(beta, y_final)\n",
    "    trajektorija = get_trajectory(params[0], params[1], beta)\n",
    "    return params, trajektorija\n",
    "    \n",
    "    \n",
    "    \n",
    "beta = 10\n",
    "y_final = -0.8\n",
    "\n",
    "[F0, alfa], trajektorija = trajectory(beta, y_final)"
   ]
  },
  {
   "cell_type": "markdown",
   "metadata": {},
   "source": [
    "## Pomožne funkcije za opis trajektorije:"
   ]
  },
  {
   "cell_type": "code",
   "execution_count": 9,
   "metadata": {},
   "outputs": [],
   "source": [
    "def get_shape(trajektorija):\n",
    "    \"\"\"Calculates number of times the shape crosses x=0 line.\n",
    "    Inspired by https://stackoverflow.com/questions/2652368/how-to-detect-a-sign-change-for-elements-in-a-numpy-array\"\"\"\n",
    "    x = trajektorija[:,2]\n",
    "    asign = np.sign(x)\n",
    "    signchange = ((np.roll(asign, 1) - asign) != 0).astype(int)\n",
    "    return np.sum(signchange)\n",
    "def get_y_min(trajektorija):\n",
    "    return np.min(trajektorija[:,3])\n",
    "def get_x_max(trajektorija):\n",
    "    abs_x = np.abs(trajektorija[:,2])\n",
    "    return np.max(abs_x)"
   ]
  },
  {
   "cell_type": "markdown",
   "metadata": {},
   "source": [
    "### Loop za $y_{final}$ in $\\beta$:"
   ]
  },
  {
   "cell_type": "code",
   "execution_count": 77,
   "metadata": {},
   "outputs": [
    {
     "name": "stdout",
     "output_type": "stream",
     "text": [
      "1.0%   2.0%   3.0%   4.0%   5.0%   6.0%   7.0%   8.0%   9.0%   1e+01%   1.1e+01%   1.2e+01%   1.3e+01%   1.4e+01%   1.5e+01%   1.6e+01%   1.7e+01%   1.8e+01%   1.9e+01%   2e+01%   2.1e+01%   2.2e+01%   2.3e+01%   2.4e+01%   2.5e+01%   2.6e+01%   2.7e+01%   2.8e+01%   2.9e+01%   3e+01%   3.1e+01%   3.2e+01%   3.3e+01%   3.4e+01%   3.5e+01%   3.6e+01%   3.7e+01%   3.8e+01%   3.9e+01%   4e+01%   4.1e+01%   4.2e+01%   4.3e+01%   4.4e+01%   4.5e+01%   4.6e+01%   4.7e+01%   4.8e+01%   4.9e+01%   5e+01%   5.1e+01%   5.2e+01%   5.3e+01%   5.4e+01%   5.5e+01%   5.6e+01%   5.7e+01%   5.8e+01%   5.9e+01%   6e+01%   6.1e+01%   6.2e+01%   6.3e+01%   6.4e+01%   6.5e+01%   6.6e+01%   6.7e+01%   6.8e+01%   6.9e+01%   7e+01%   7.1e+01%   7.2e+01%   7.3e+01%   7.4e+01%   7.5e+01%   7.6e+01%   7.7e+01%   7.8e+01%   7.9e+01%   8e+01%   8.1e+01%   8.2e+01%   8.3e+01%   8.4e+01%   8.5e+01%   8.6e+01%   8.7e+01%   8.8e+01%   8.9e+01%   9e+01%   9.1e+01%   9.2e+01%   9.3e+01%   9.4e+01%   9.5e+01%   9.6e+01%   9.7e+01%   9.8e+01%   9.9e+01%   1e+02%   "
     ]
    }
   ],
   "source": [
    "M = 100\n",
    "yfs = np.linspace(-1, -.1, M)\n",
    "betas = np.logspace(-1, 2, M)\n",
    "rezults = np.empty((M**2, 5))\n",
    "i = 0\n",
    "for yf in yfs:\n",
    "    for beta in betas:\n",
    "        [F0, alfa], trajektorija = trajectory(beta, yf)\n",
    "        rezults[i,:] = yf, beta, get_shape(trajektorija), get_y_min(trajektorija), get_x_max(trajektorija)\n",
    "        i += 1\n",
    "        if i%1000==0:\n",
    "            print(f\"{i*100/M**2:0.02}%\", end=\"   \")\n",
    "np.savetxt(f\"2020-rezults{M}.txt\", rezults)"
   ]
  },
  {
   "cell_type": "code",
   "execution_count": 35,
   "metadata": {
    "collapsed": true,
    "jupyter": {
     "outputs_hidden": true,
     "source_hidden": true
    }
   },
   "outputs": [
    {
     "data": {
      "image/png": "[encoded data removed]",
      "text/plain": [
       "<Figure size 432x288 with 2 Axes>"
      ]
     },
     "metadata": {},
     "output_type": "display_data"
    }
   ],
   "source": [
    "from scipy.interpolate import griddata\n",
    "x,y,z = rezults[:,0],rezults[:,1],rezults[:,2] \n",
    "\n",
    "yy, xx = np.meshgrid(y,x)\n",
    "zz = griddata((x,y),z,(xx,yy))\n",
    "\n",
    "plt.contourf(xx,yy,zz-2, cmap='RdBu') # if you want contour plot\n",
    "#plt.imshow(zz)\n",
    "plt.colorbar()\n",
    "plt.title(r\"Število prehodov čez $x=0$\")\n",
    "plt.xlabel(r\"$y_{\\mathrm{ Final}}$\")\n",
    "plt.ylabel(r\"$\\beta$\")\n",
    "\n",
    "plt.savefig(\"2020-1-fazniportret_prehodi3.pdf\")\n",
    "plt.show()"
   ]
  },
  {
   "cell_type": "code",
   "execution_count": 31,
   "metadata": {
    "collapsed": true,
    "jupyter": {
     "outputs_hidden": true,
     "source_hidden": true
    }
   },
   "outputs": [
    {
     "data": {
      "image/png": "[encoded data removed]",
      "text/plain": [
       "<Figure size 432x288 with 2 Axes>"
      ]
     },
     "metadata": {},
     "output_type": "display_data"
    }
   ],
   "source": [
    "from scipy.interpolate import griddata\n",
    "x,y,z = rezults[:,0],rezults[:,1],rezults[:,3] \n",
    "\n",
    "yy, xx = np.meshgrid(y,x)\n",
    "zz = griddata((x,y),z,(xx,yy))\n",
    "\n",
    "plt.contourf(xx,yy,zz, cmap='RdBu') # if you want contour plot\n",
    "#plt.imshow(zz)\n",
    "plt.colorbar()\n",
    "plt.title(r\"$y_{\\mathrm{ min}}$\")\n",
    "plt.xlabel(r\"$y_{\\mathrm{ Final}}$\")\n",
    "plt.ylabel(r\"$\\beta$\")\n",
    "\n",
    "\n",
    "plt.savefig(\"2020-1-fazniportret_ymin3.pdf\")\n",
    "plt.show()"
   ]
  },
  {
   "cell_type": "code",
   "execution_count": 36,
   "metadata": {
    "collapsed": true,
    "jupyter": {
     "outputs_hidden": true,
     "source_hidden": true
    }
   },
   "outputs": [
    {
     "data": {
      "image/png": "[encoded data removed]",
      "text/plain": [
       "<Figure size 432x288 with 2 Axes>"
      ]
     },
     "metadata": {},
     "output_type": "display_data"
    }
   ],
   "source": [
    "from scipy.interpolate import griddata\n",
    "x,y,z = rezults[:,0],rezults[:,1],rezults[:,4] \n",
    "\n",
    "yy, xx = np.meshgrid(y,x)\n",
    "zz = griddata((x,y),z,(xx,yy))\n",
    "\n",
    "plt.contourf(xx,yy,zz, cmap='RdBu') # if you want contour plot\n",
    "#plt.imshow(zz)\n",
    "plt.colorbar()\n",
    "plt.title(r\"$\\left|x_{\\mathrm{ max}}\\right|$\")\n",
    "plt.xlabel(r\"$y_{\\mathrm{ Final}}$\")\n",
    "plt.ylabel(r\"$\\beta$\")\n",
    "\n",
    "plt.savefig(\"2020-1-fazniportret_xmax3.pdf\")\n",
    "plt.show()"
   ]
  },
  {
   "cell_type": "code",
   "execution_count": 80,
   "metadata": {},
   "outputs": [],
   "source": [
    "%matplotlib qt\n",
    "from mpl_toolkits.mplot3d import Axes3D \n",
    "import matplotlib.ticker as mticker\n",
    "def log_tick_formatter(val, pos=None):\n",
    "    return \"{:0.2f}\".format(10**val)\n",
    "import matplotlib.colors\n",
    "data = rezults[:,2]\n",
    "colormap = plt.get_cmap(\"plasma\")\n",
    "norm = matplotlib.colors.Normalize(vmin=min(data), vmax=max(data))\n",
    "\n",
    "\n",
    "fig = plt.figure()\n",
    "ax = fig.add_subplot(111, projection='3d')\n",
    "ax.yaxis.set_major_formatter(mticker.FuncFormatter(log_tick_formatter))\n",
    "x,y,z = rezults[:,0],np.log10(rezults[:,1]),data \n",
    "ax.scatter(x,y,z, c=colormap(norm(data)))\n",
    "ax.set_title(r\"$\\left|x_{\\mathrm{ max}}\\right|$\")\n",
    "ax.set_xlabel(r\"$y_{\\mathrm{ Final}}$\")\n",
    "ax.set_ylabel(r\"$\\beta$\")\n",
    "\n",
    "plt.show()"
   ]
  },
  {
   "cell_type": "code",
   "execution_count": null,
   "metadata": {},
   "outputs": [],
   "source": []
  }
 ],
 "metadata": {
  "kernelspec": {
   "display_name": "Python 3",
   "language": "python",
   "name": "python3"
  },
  "language_info": {
   "codemirror_mode": {
    "name": "ipython",
    "version": 3
   },
   "file_extension": ".py",
   "mimetype": "text/x-python",
   "name": "python",
   "nbconvert_exporter": "python",
   "pygments_lexer": "ipython3",
   "version": "3.7.6"
  }
 },
 "nbformat": 4,
 "nbformat_minor": 4
}
