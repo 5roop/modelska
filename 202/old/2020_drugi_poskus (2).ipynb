{
 "cells": [
  {
   "cell_type": "code",
   "execution_count": 1,
   "metadata": {},
   "outputs": [],
   "source": [
    "import pandas as pd\n",
    "import matplotlib.pyplot as plt\n",
    "import numpy as np\n",
    "from scipy.integrate import odeint, ode\n",
    "\n",
    "plt.style.use(\"ggplot\")\n",
    "plt.rcParams['font.family'] = \"serif\"\n",
    "plt.rcParams['font.size'] = 13\n",
    "plt.rcParams.update({'figure.autolayout': True})\n",
    "plt.rc('text', usetex=True)\n",
    "pd.set_option('display.max_columns', 50)\n",
    "%config IPCompleter.greedy=True"
   ]
  },
  {
   "cell_type": "code",
   "execution_count": 98,
   "metadata": {},
   "outputs": [
    {
     "name": "stdout",
     "output_type": "stream",
     "text": [
      "Initial guesses converged after 1 tries.\n"
     ]
    },
    {
     "name": "stderr",
     "output_type": "stream",
     "text": [
      "/home/peter/anaconda3/lib/python3.7/site-packages/matplotlib/figure.py:2369: UserWarning: This figure includes Axes that are not compatible with tight_layout, so results might be incorrect.\n",
      "  warnings.warn(\"This figure includes Axes that are not compatible \"\n"
     ]
    },
    {
     "data": {
      "image/png": "[encoded data removed]",
      "text/plain": [
       "<Figure size 432x288 with 1 Axes>"
      ]
     },
     "metadata": {
      "needs_background": "light"
     },
     "output_type": "display_data"
    }
   ],
   "source": [
    "SRESOLUTION = 100\n",
    "\n",
    "def get_end_point( F0, alfa0, beta):\n",
    "    \"\"\"Integrates based on given initial conditions and beta.\n",
    "    Returns array Faxy.\"\"\"\n",
    "    initial = [F0, alfa0, 0, 0]\n",
    "    def odes(s, arej, beta):\n",
    "        F, alfa, x, y = arej\n",
    "        Fpika = - beta*x*np.cos(alfa) + np.sin(alfa)\n",
    "        alfapika = (beta*x*np.sin(alfa) + np.cos(alfa))/F\n",
    "        xpika = np.cos(alfa)\n",
    "        ypika = np.sin(alfa)\n",
    "        return [Fpika, alfapika, xpika, ypika]\n",
    "    r = ode(odes).set_integrator('dopri5')\n",
    "    r.set_initial_value(initial, 0).set_f_params(beta)\n",
    "    return r.integrate(1)\n",
    "def get_trajectory(F0, alfa0, beta):\n",
    "    \"\"\"Integrates based on given initial conditions and beta.\n",
    "    Returns trajectory Faxy.\"\"\"\n",
    "    initial = [F0, alfa0, 0, 0]\n",
    "    def odes(s, arej, beta):\n",
    "        F, alfa, x, y = arej\n",
    "        Fpika = - beta*x*np.cos(alfa) + np.sin(alfa)\n",
    "        alfapika = (beta*x*np.sin(alfa) + np.cos(alfa))/F\n",
    "        xpika = np.cos(alfa)\n",
    "        ypika = np.sin(alfa)\n",
    "        return [Fpika, alfapika, xpika, ypika]\n",
    "    r = ode(odes).set_integrator('dopri5')\n",
    "    r.set_initial_value(initial, 0).set_f_params(beta)\n",
    "    ss = np.linspace(0,1, 200)\n",
    "    sol = np.zeros((ss.shape[0],4))\n",
    "    for i, t in enumerate(ss):\n",
    "        sol[i,:] = r.integrate(t)\n",
    "    return sol\n",
    "def shoot(beta, y_final):\n",
    "    \"\"\"For a given beta and y_final finds initial conditions\n",
    "    of F0 and alfa0 and promplty returns them, if found, else None.\"\"\"\n",
    "    def _fun_to_minimize(arej, beta, y_final):\n",
    "        F0, alfa0 = arej\n",
    "        xy = get_end_point(F0, alfa0, beta)[-2:]\n",
    "        xf, yf = xy[0], xy[1]\n",
    "        return [xf, yf-y_final]\n",
    "    from scipy.optimize import root\n",
    "    for bleh in range(100):\n",
    "        rez = root(_fun_to_minimize, [np.random.rand(), np.random.rand()*np.pi*2], args=(beta, y_final))\n",
    "        if rez.success:\n",
    "            print(f\"Initial guesses converged after {bleh+1} tries.\")\n",
    "            return rez.x\n",
    "beta = 10\n",
    "y_final = -0.8\n",
    "rez = shoot(beta, y_final)\n",
    "trajektorija = get_trajectory(rez[0], rez[1], beta)\n",
    "fig, ax = plt.subplots()\n",
    "ax.set_title(fr\"$F_0={{{rez[0]:0.2f}}}, \\alpha_0={{{rez[1]:0.2f}}}, \\beta={{{beta}}}$\")\n",
    "ax.plot(trajektorija[:,2], trajektorija[:,3])\n",
    "#ax.set_aspect('equal')\n",
    "plt.savefig(\"2020-1-trajektorija8.pdf\")\n",
    "plt.show()"
   ]
  },
  {
   "cell_type": "code",
   "execution_count": 64,
   "metadata": {},
   "outputs": [
    {
     "data": {
      "text/plain": [
       "0.4215769636782304"
      ]
     },
     "execution_count": 64,
     "metadata": {},
     "output_type": "execute_result"
    }
   ],
   "source": [
    "np.random.rand()"
   ]
  },
  {
   "cell_type": "code",
   "execution_count": null,
   "metadata": {},
   "outputs": [],
   "source": []
  }
 ],
 "metadata": {
  "kernelspec": {
   "display_name": "Python 3",
   "language": "python",
   "name": "python3"
  },
  "language_info": {
   "codemirror_mode": {
    "name": "ipython",
    "version": 3
   },
   "file_extension": ".py",
   "mimetype": "text/x-python",
   "name": "python",
   "nbconvert_exporter": "python",
   "pygments_lexer": "ipython3",
   "version": "3.7.3"
  }
 },
 "nbformat": 4,
 "nbformat_minor": 2
}
