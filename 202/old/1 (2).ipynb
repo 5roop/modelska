{
 "cells": [
  {
   "cell_type": "code",
   "execution_count": 1,
   "metadata": {},
   "outputs": [],
   "source": [
    "import numpy as np\n",
    "import matplotlib.pyplot as plt\n",
    "from numpy.random import poisson\n",
    "import pandas as pd\n",
    "plt.style.use(\"ggplot\")\n",
    "plt.rcParams['font.family'] = \"serif\"\n",
    "plt.rc('text', usetex=True)\n",
    "np.set_printoptions(precision=4)\n",
    "from scipy.integrate import odeint\n",
    "from scipy.optimize import root"
   ]
  },
  {
   "cell_type": "markdown",
   "metadata": {},
   "source": [
    "$\\newcommand{\\td}[2]{\\frac{\\mathrm{d}{ #1}}{\\mathrm{d}{ #2}}}$\n",
    "   \\begin{align*}\n",
    "        \\td{F}{s} &= - \\beta x \\cos \\alpha + \\sin \\alpha & \\td{x}{s} &=\\cos \\alpha \\\\\n",
    "        F \\td{\\alpha}{s} &= \\beta x \\sin \\alpha + \\cos \\alpha & \\td{y}{s} &= \\sin \\alpha.\n",
    "    \\end{align*}"
   ]
  },
  {
   "cell_type": "code",
   "execution_count": 2,
   "metadata": {},
   "outputs": [],
   "source": [
    "y_f = 0.8\n",
    "TS = 1e-6\n",
    "def streljaj(arej, *args):\n",
    "    \"\"\"Sprejme [alfa0, F0] in args=(beta). \n",
    "    Vrne [x_final, y_final-y_f].\"\"\"\n",
    "    if args:\n",
    "        beta = args[0]\n",
    "    else:\n",
    "        beta = 1\n",
    "    alfa0, F0 = arej\n",
    "    x0 = 0\n",
    "    y0 = 0\n",
    "    INPUT = np.array([x0,y0,alfa0,F0])\n",
    "    \n",
    "    ND=1 #Čas opazovanja\n",
    "    def diff_eqs(INP,t):\n",
    "            '''The main set of equations'''\n",
    "            Y=np.zeros(4)\n",
    "            x,y,alfa,F = INP\n",
    "            Y[0] = np.cos(alfa)\n",
    "            Y[1] = np.sin(alfa)\n",
    "            Y[2] = (beta * x * np.sin(alfa) + np.cos(alfa))/F\n",
    "            Y[3] = -beta * x * np.cos(alfa) + np.sin(alfa)\n",
    "            return Y   # For odeint\n",
    "    t_start = 0.0; t_end = ND; t_inc = TS\n",
    "    t_range = np.arange(t_start, t_end+t_inc, t_inc)\n",
    "    RES = odeint(diff_eqs,INPUT,t_range)\n",
    "    x_final = RES[-1,0]\n",
    "    y_final = RES[-1,1]\n",
    "    return [x_final, y_final-y_f]\n",
    "def najdi_alfa_F(streljaj, beta):\n",
    "    \"\"\"Vrne [alfa_0, F_0] za dano beta.\"\"\"\n",
    "    return root(streljaj, [0,1], args=(beta)).x\n",
    "def streljaj_trajektorija(arej, *args):\n",
    "    \"\"\"Sprejme [alfa0, F0] in args=(beta). \n",
    "    Vrne obliko [xi, yi].\"\"\"\n",
    "    if args:\n",
    "        beta = args[0]\n",
    "    else:\n",
    "        beta = 1\n",
    "    alfa0, F0 = arej\n",
    "    x0 = 0\n",
    "    y0 = 0\n",
    "    INPUT = np.array([x0,y0,alfa0,F0])\n",
    "    \n",
    "    ND=1 #Čas opazovanja\n",
    "    def diff_eqs(INP,t):\n",
    "            '''The main set of equations'''\n",
    "            Y=np.zeros(4)\n",
    "            x,y,alfa,F = INP\n",
    "            Y[0] = np.cos(alfa)\n",
    "            Y[1] = np.sin(alfa)\n",
    "            Y[2] = (beta * x * np.sin(alfa) + np.cos(alfa))/F\n",
    "            Y[3] = -beta * x * np.cos(alfa) + np.sin(alfa)\n",
    "            return Y   # For odeint\n",
    "    t_start = 0.0; t_end = ND; t_inc = TS\n",
    "    t_range = np.arange(t_start, t_end+t_inc, t_inc)\n",
    "    RES = odeint(diff_eqs,INPUT,t_range)\n",
    "    xi = RES[:,0]\n",
    "    yi = RES[:,1]\n",
    "    return [xi, yi]\n",
    "for beta in [0.1,1,10,100,1000]:\n",
    "    alfa0, F0 = najdi_alfa_F(streljaj, beta)\n",
    "    xi, yi = streljaj_trajektorija([alfa0, F0],beta)\n",
    "    plt.plot(xi, -yi, label=fr\"$\\beta={beta}$\")\n",
    "plt.legend()\n",
    "plt.show()"
   ]
  },
  {
   "cell_type": "code",
   "execution_count": 3,
   "metadata": {},
   "outputs": [
    {
     "data": {
      "text/plain": [
       "    fjac: array([[-1.0000e+00,  1.9058e-08],\n",
       "       [-1.9058e-08, -1.0000e+00]])\n",
       "     fun: array([ 1.4459e-07, -1.3245e-13])\n",
       " message: 'The solution converged.'\n",
       "    nfev: 36\n",
       "     qtf: array([-1.4459e-07,  1.2969e-13])\n",
       "       r: array([143.4741,   0.4615,   1.9981])\n",
       "  status: 1\n",
       " success: True\n",
       "       x: array([ 1.5708, -0.9   ])"
      ]
     },
     "execution_count": 3,
     "metadata": {},
     "output_type": "execute_result"
    }
   ],
   "source": [
    "root(streljaj, [0.05,1], args=(1))"
   ]
  },
  {
   "cell_type": "code",
   "execution_count": 4,
   "metadata": {},
   "outputs": [
    {
     "data": {
      "text/plain": [
       "[<matplotlib.lines.Line2D at 0x7f2b6fed7c18>]"
      ]
     },
     "execution_count": 4,
     "metadata": {},
     "output_type": "execute_result"
    },
    {
     "data": {
      "image/png": "[encoded data removed]",
      "text/plain": [
       "<Figure size 432x288 with 1 Axes>"
      ]
     },
     "metadata": {
      "needs_background": "light"
     },
     "output_type": "display_data"
    }
   ],
   "source": [
    "def najdi_alfa_F(streljaj, beta):\n",
    "    \"\"\"Vrne [alfa_0, F_0] za dano beta.\"\"\"\n",
    "    return root(streljaj, [1,1], args=(beta)).x\n",
    "beta =0.01\n",
    "xi, yi = streljaj_trajektorija(najdi_alfa_F(streljaj, beta),beta)\n",
    "plt.plot(xi, -yi, label=fr\"$\\beta={beta}$\")"
   ]
  },
  {
   "cell_type": "markdown",
   "metadata": {},
   "source": [
    "## Kako $\\beta$ vpliva na končno lokacijo? -- Ali lahko zarajdamo do $y_f$ tudi pri $\\beta=0$? "
   ]
  },
  {
   "cell_type": "code",
   "execution_count": 43,
   "metadata": {},
   "outputs": [
    {
     "name": "stdout",
     "output_type": "stream",
     "text": [
      "Število bet, ki dajo pravo rešitev s funkcijo najdi_alfa_F1: 126\n"
     ]
    },
    {
     "name": "stderr",
     "output_type": "stream",
     "text": [
      "/home/peter/anaconda3/lib/python3.6/site-packages/ipykernel_launcher.py:22: RuntimeWarning: divide by zero encountered in double_scalars\n",
      "/home/peter/anaconda3/lib/python3.6/site-packages/scipy/integrate/odepack.py:247: ODEintWarning: Illegal input detected (internal error). Run with full_output = 1 to get quantitative information.\n",
      "  warnings.warn(warning_msg, ODEintWarning)\n",
      "/home/peter/anaconda3/lib/python3.6/site-packages/ipykernel_launcher.py:23: RuntimeWarning: divide by zero encountered in double_scalars\n"
     ]
    },
    {
     "name": "stdout",
     "output_type": "stream",
     "text": [
      "Število bet, ki dajo pravo rešitev s funkcijo najdi_alfa_F2: 210\n",
      "Število bet, ki dajo pravo rešitev s funkcijo najdi_alfa_F3: 107\n",
      "Število bet, ki dajo pravo rešitev s funkcijo najdi_alfa_F4: 362\n",
      "Število bet, ki dajo pravo rešitev s funkcijo najdi_alfa_F5: 364\n",
      "Število bet, ki dajo pravo rešitev s funkcijo najdi_alfa_F6: 392\n",
      "Število bet, ki dajo pravo rešitev s funkcijo najdi_alfa_F7: 358\n",
      "Število bet, ki dajo pravo rešitev s funkcijo najdi_alfa_F8: 353\n"
     ]
    },
    {
     "data": {
      "image/png": "[encoded data removed]",
      "text/plain": [
       "<Figure size 288x288 with 1 Axes>"
      ]
     },
     "metadata": {
      "needs_background": "light"
     },
     "output_type": "display_data"
    }
   ],
   "source": [
    "TS = 1e-3\n",
    "y_f = 0.8\n",
    "\n",
    "def streljaj_konec(arej, *args):\n",
    "    \"\"\"Sprejme [alfa0, F0] in args=(beta). \n",
    "    Vrne končno točko yf.\"\"\"\n",
    "    if args:\n",
    "        beta = args[0]\n",
    "    else:\n",
    "        beta = 1\n",
    "    alfa0, F0 = arej\n",
    "    x0 = 0\n",
    "    y0 = 0\n",
    "    INPUT = np.array([x0,y0,alfa0,F0])\n",
    "    \n",
    "    ND=1 #Čas opazovanja\n",
    "    def diff_eqs(INP,t):\n",
    "            '''The main set of equations'''\n",
    "            Y=np.zeros(4)\n",
    "            x,y,alfa,F = INP\n",
    "            Y[0] = np.cos(alfa)\n",
    "            Y[1] = np.sin(alfa)\n",
    "            Y[2] = (beta * x * np.sin(alfa) + np.cos(alfa))/F\n",
    "            Y[3] = -beta * x * np.cos(alfa) + np.sin(alfa)\n",
    "            return Y   # For odeint\n",
    "    t_start = 0.0; t_end = ND; t_inc = TS\n",
    "    t_range = np.arange(t_start, t_end+t_inc, t_inc)\n",
    "    RES = odeint(diff_eqs,INPUT,t_range)\n",
    "    yi = RES[-1,1]\n",
    "    return yi\n",
    "\n",
    "def najdi_alfa_F1(streljaj, beta):\n",
    "    \"\"\"Vrne [alfa_0, F_0] za dano beta.\"\"\"\n",
    "    return root(streljaj, [1,1], args=(beta)).x\n",
    "def najdi_alfa_F2(streljaj, beta):\n",
    "    \"\"\"Vrne [alfa_0, F_0] za dano beta.\"\"\"\n",
    "    return root(streljaj, [0,0], args=(beta)).x\n",
    "def najdi_alfa_F3(streljaj, beta):\n",
    "    \"\"\"Vrne [alfa_0, F_0] za dano beta.\"\"\"\n",
    "    return root(streljaj, [0.1*beta,beta], args=(beta)).x\n",
    "def najdi_alfa_F4(streljaj, beta):\n",
    "    \"\"\"Vrne [alfa_0, F_0] za dano beta.\"\"\"\n",
    "    return root(streljaj, [0.001*beta*beta,0.001*beta*beta], args=(beta)).x\n",
    "def najdi_alfa_F5(streljaj, beta):\n",
    "    \"\"\"Vrne [alfa_0, F_0] za dano beta.\"\"\"\n",
    "    return root(streljaj, [0.01*beta*beta,0.001*beta*beta], args=(beta)).x\n",
    "def najdi_alfa_F6(streljaj, beta):\n",
    "    \"\"\"Vrne [alfa_0, F_0] za dano beta.\"\"\"\n",
    "    return root(streljaj, [0.001*beta*beta,0.01*beta*beta], args=(beta)).x\n",
    "def najdi_alfa_F7(streljaj, beta):\n",
    "    \"\"\"Vrne [alfa_0, F_0] za dano beta.\"\"\"\n",
    "    return root(streljaj, [0.001*beta*beta*beta,0.001*beta*beta*beta], args=(beta)).x\n",
    "def najdi_alfa_F8(streljaj, beta):\n",
    "    \"\"\"Vrne [alfa_0, F_0] za dano beta.\"\"\"\n",
    "    return root(streljaj, [0.0001*beta*beta,0.0001*beta*beta], args=(beta)).x\n",
    "funkcije = [najdi_alfa_F1,najdi_alfa_F2,najdi_alfa_F3, najdi_alfa_F4,\n",
    "           najdi_alfa_F5,najdi_alfa_F6,najdi_alfa_F7, najdi_alfa_F8]\n",
    "razpon_bet = np.linspace(3,0.01,400, endpoint=True)\n",
    "slovar = {\"razpon\":razpon_bet}\n",
    "plt.figure(figsize=(4,4))\n",
    "for najdi_alfa_F in funkcije:\n",
    "    yfi = np.empty_like(razpon_bet)\n",
    "    for i,beta in enumerate(razpon_bet):\n",
    "        TS = 1e-3\n",
    "        alfa0, F0 = najdi_alfa_F(streljaj, beta)\n",
    "        TS = 1e-4\n",
    "        yfi[i] = streljaj_konec([alfa0, F0], beta)\n",
    "    slovar[najdi_alfa_F] = yfi\n",
    "    plt.scatter(razpon_bet, -yfi, label=f\"{najdi_alfa_F.__name__[-1]}\",s=3)\n",
    "    print(f\"Število bet, ki dajo pravo rešitev s funkcijo {najdi_alfa_F.__name__}:\", np.sum(np.isclose(yfi,y_f)))\n",
    "\n",
    "plt.xlabel(r\"$\\beta$\")\n",
    "plt.ylabel(r\"Končna pozicija $y_f (\\beta)$\")\n",
    "plt.title(\"Vpliv različnih\\nzačetnih približkov\")\n",
    "plt.ylim(-y_f*1.3, -y_f/1.3)\n",
    "plt.legend(loc=7, ncol=3)\n",
    "plt.savefig(\"1-2-vpliv-bete-razlicni-priblizki.pdf\", bbox_inches='tight')\n",
    "plt.show()"
   ]
  },
  {
   "cell_type": "code",
   "execution_count": 49,
   "metadata": {},
   "outputs": [],
   "source": [
    "for f in funkcije:\n",
    "    slovar[f\"{f.__name__[-1]}\"] = slovar[f]\n",
    "slovar = {\"razpon\":slovar[\"razpon\"],\n",
    "         '1':slovar[\"1\"],\n",
    "          '2':slovar[\"2\"],\n",
    "          '3':slovar[\"3\"],\n",
    "          '4':slovar[\"4\"], \n",
    "          '5': slovar[\"5\"], \n",
    "          '6': slovar[\"6\"], \n",
    "          '7': slovar[\"7\"], \n",
    "          '8': slovar[\"8\"]}\n"
   ]
  },
  {
   "cell_type": "code",
   "execution_count": 60,
   "metadata": {},
   "outputs": [
    {
     "data": {
      "image/png": "[encoded data removed]",
      "text/plain": [
       "<Figure size 432x288 with 1 Axes>"
      ]
     },
     "metadata": {
      "needs_background": "light"
     },
     "output_type": "display_data"
    }
   ],
   "source": [
    "for i in range(1,9):\n",
    "    plt.scatter(slovar[\"razpon\"], -slovar[f\"{i}\"], label=i, s=2)\n",
    "\n",
    "plt.xlabel(r\"$\\beta$\")\n",
    "plt.ylabel(r\"Končna pozicija $y_f (\\beta)$\")\n",
    "plt.title(\"Vpliv različnih\\nzačetnih približkov\")\n",
    "plt.ylim(-y_f*1.3, -y_f/1.1)\n",
    "plt.legend(loc=\"center left\", ncol=3, title=\"Začetni približek:\")\n",
    "plt.savefig(\"1-2-vpliv-bete-razlicni-priblizki.pdf\", bbox_inches='tight')\n",
    "plt.show()"
   ]
  },
  {
   "cell_type": "markdown",
   "metadata": {},
   "source": [
    "## Maksimalni odmiki"
   ]
  },
  {
   "cell_type": "code",
   "execution_count": 71,
   "metadata": {},
   "outputs": [
    {
     "data": {
      "image/png": "[encoded data removed]",
      "text/plain": [
       "<Figure size 648x360 with 2 Axes>"
      ]
     },
     "metadata": {
      "needs_background": "light"
     },
     "output_type": "display_data"
    }
   ],
   "source": [
    "y_f = 0.8\n",
    "TS = 1e-4\n",
    "def streljaj(arej, *args):\n",
    "    \"\"\"Sprejme [alfa0, F0] in args=(beta). \n",
    "    Vrne [x_final, y_final-y_f].\"\"\"\n",
    "    if args:\n",
    "        beta = args[0]\n",
    "    else:\n",
    "        beta = 1\n",
    "    alfa0, F0 = arej\n",
    "    x0 = 0\n",
    "    y0 = 0\n",
    "    INPUT = np.array([x0,y0,alfa0,F0])\n",
    "    \n",
    "    ND=1 #Čas opazovanja\n",
    "    def diff_eqs(INP,t):\n",
    "            '''The main set of equations'''\n",
    "            Y=np.zeros(4)\n",
    "            x,y,alfa,F = INP\n",
    "            Y[0] = np.cos(alfa)\n",
    "            Y[1] = np.sin(alfa)\n",
    "            Y[2] = (beta * x * np.sin(alfa) + np.cos(alfa))/F\n",
    "            Y[3] = -beta * x * np.cos(alfa) + np.sin(alfa)\n",
    "            return Y   # For odeint\n",
    "    t_start = 0.0; t_end = ND; t_inc = TS\n",
    "    t_range = np.arange(t_start, t_end+t_inc, t_inc)\n",
    "    RES = odeint(diff_eqs,INPUT,t_range)\n",
    "    x_final = RES[-1,0]\n",
    "    y_final = RES[-1,1]\n",
    "    return [x_final, y_final-y_f]\n",
    "def najdi_alfa_F(streljaj, beta):\n",
    "    \"\"\"Vrne [alfa_0, F_0] za dano beta.\"\"\"\n",
    "    return root(streljaj, [0.001*beta*beta,0.01*beta*beta], args=(beta)).x\n",
    "def streljaj_odmiki(arej, *args):\n",
    "    \"\"\"Sprejme [alfa0, F0] in args=(beta). \n",
    "    Vrne [maksx, maksy].\"\"\"\n",
    "    if args:\n",
    "        beta = args[0]\n",
    "    else:\n",
    "        beta = 1\n",
    "    alfa0, F0 = arej\n",
    "    x0 = 0\n",
    "    y0 = 0\n",
    "    INPUT = np.array([x0,y0,alfa0,F0])\n",
    "    \n",
    "    ND=1 #Čas opazovanja\n",
    "    def diff_eqs(INP,t):\n",
    "            '''The main set of equations'''\n",
    "            Y=np.zeros(4)\n",
    "            x,y,alfa,F = INP\n",
    "            Y[0] = np.cos(alfa)\n",
    "            Y[1] = np.sin(alfa)\n",
    "            Y[2] = (beta * x * np.sin(alfa) + np.cos(alfa))/F\n",
    "            Y[3] = -beta * x * np.cos(alfa) + np.sin(alfa)\n",
    "            return Y   # For odeint\n",
    "    t_start = 0.0; t_end = ND; t_inc = TS\n",
    "    t_range = np.arange(t_start, t_end+t_inc, t_inc)\n",
    "    RES = odeint(diff_eqs,INPUT,t_range)\n",
    "    xi = RES[:,0]\n",
    "    yi = RES[:,1]\n",
    "    return [np.max(xi), np.max(yi)]\n",
    "\n",
    "\n",
    "razpon_bet = np.linspace(0.01, 3, 500)\n",
    "odmiki = {\"razpon\":razpon_bet}\n",
    "xi = np.empty_like(razpon_bet)\n",
    "yi = np.empty_like(razpon_bet)\n",
    "for i, beta in enumerate(razpon_bet):\n",
    "    x,y = streljaj_odmiki(najdi_alfa_F(streljaj,beta), beta)\n",
    "    xi[i] = x\n",
    "    yi[i] = y\n",
    "odmiki[\"x\"] = xi\n",
    "odmiki[\"y\"] = yi\n",
    "\n",
    "plt.figure(figsize=(9,5))\n",
    "plt.subplot(121)\n",
    "plt.title(\"Maksimalen vodoraven odmik\")\n",
    "plt.scatter(odmiki[\"razpon\"], odmiki[\"x\"],s=3)\n",
    "plt.xlabel(r\"Parameter $\\beta$\")\n",
    "plt.ylabel(\"Maksimalni vodoravni odmiki\")\n",
    "\n",
    "plt.subplot(122)\n",
    "plt.title(\"Maksimalen navpičen odmik\")\n",
    "plt.scatter(odmiki[\"razpon\"], -odmiki[\"y\"],s=3)\n",
    "plt.xlabel(r\"Parameter $\\beta$\")\n",
    "plt.ylabel(\"Maksimalni navpični odmiki\")\n",
    "\n",
    "plt.tight_layout()\n",
    "plt.show()"
   ]
  },
  {
   "cell_type": "code",
   "execution_count": 99,
   "metadata": {},
   "outputs": [
    {
     "data": {
      "image/png": "[encoded data removed]",
      "text/plain": [
       "<Figure size 288x288 with 1 Axes>"
      ]
     },
     "metadata": {
      "needs_background": "light"
     },
     "output_type": "display_data"
    }
   ],
   "source": [
    "y_f = 0.8\n",
    "TS = 1e-4\n",
    "def streljaj(arej, *args):\n",
    "    \"\"\"Sprejme [alfa0, F0] in args=(beta). \n",
    "    Vrne [x_final, y_final-y_f].\"\"\"\n",
    "    if args:\n",
    "        beta = args[0]\n",
    "    else:\n",
    "        beta = 1\n",
    "    alfa0, F0 = arej\n",
    "    x0 = 0\n",
    "    y0 = 0\n",
    "    INPUT = np.array([x0,y0,alfa0,F0])\n",
    "    \n",
    "    ND=1 #Čas opazovanja\n",
    "    def diff_eqs(INP,t):\n",
    "            '''The main set of equations'''\n",
    "            Y=np.zeros(4)\n",
    "            x,y,alfa,F = INP\n",
    "            Y[0] = np.cos(alfa)\n",
    "            Y[1] = np.sin(alfa)\n",
    "            Y[2] = (beta * x * np.sin(alfa) + np.cos(alfa))/F\n",
    "            Y[3] = -beta * x * np.cos(alfa) + np.sin(alfa)\n",
    "            return Y   # For odeint\n",
    "    t_start = 0.0; t_end = ND; t_inc = TS\n",
    "    t_range = np.arange(t_start, t_end+t_inc, t_inc)\n",
    "    RES = odeint(diff_eqs,INPUT,t_range)\n",
    "    x_final = RES[-1,0]\n",
    "    y_final = RES[-1,1]\n",
    "    return [x_final, y_final-y_f]\n",
    "def najdi_alfa_F(streljaj, beta):\n",
    "    \"\"\"Vrne [alfa_0, F_0] za dano beta.\"\"\"\n",
    "    return root(streljaj, [0.001*beta*beta,0.01*beta*beta], args=(beta)).x\n",
    "def streljaj_dolzina(arej, *args):\n",
    "    \"\"\"Sprejme [alfa0, F0] in args=(beta). \n",
    "    Vrne dolzino**2.\"\"\"\n",
    "    if args:\n",
    "        beta = args[0]\n",
    "    else:\n",
    "        beta = 1\n",
    "    alfa0, F0 = arej\n",
    "    x0 = 0\n",
    "    y0 = 0\n",
    "    INPUT = np.array([x0,y0,alfa0,F0])\n",
    "    \n",
    "    ND=1 #Čas opazovanja\n",
    "    def diff_eqs(INP,t):\n",
    "            '''The main set of equations'''\n",
    "            Y=np.zeros(4)\n",
    "            x,y,alfa,F = INP\n",
    "            Y[0] = np.cos(alfa)\n",
    "            Y[1] = np.sin(alfa)\n",
    "            Y[2] = (beta * x * np.sin(alfa) + np.cos(alfa))/F\n",
    "            Y[3] = -beta * x * np.cos(alfa) + np.sin(alfa)\n",
    "            return Y   # For odeint\n",
    "    t_start = 0.0; t_end = ND; t_inc = TS\n",
    "    t_range = np.arange(t_start, t_end+t_inc, t_inc)\n",
    "    RES = odeint(diff_eqs,INPUT,t_range)\n",
    "    xi = RES[:,0]\n",
    "    yi = RES[:,1]\n",
    "    return np.sum((np.diff(xi))**2 + (np.diff(yi))**2)/TS\n",
    "\n",
    "\n",
    "#razpon_bet = np.linspace(0.01, 10, 200)\n",
    "#s = np.empty_like(razpon_bet)\n",
    "#for i, beta in enumerate(razpon_bet):\n",
    "#    s[i] = streljaj_dolzina(najdi_alfa_F(streljaj, beta), beta)\n",
    "plt.figure(figsize=(4,4))\n",
    "plt.scatter(razpon_bet, s-1, s=2)\n",
    "plt.xlabel(r\"Parameter $\\beta$\")\n",
    "plt.ylabel(\"Presežna dolžina\")\n",
    "eps=2e-6\n",
    "plt.ylim((-eps, +eps))\n",
    "plt.tight_layout()\n",
    "plt.savefig(\"1-4-stabilnost_integracije.pdf\", bbox_inches=\"tight\")\n",
    "plt.show()"
   ]
  },
  {
   "cell_type": "code",
   "execution_count": 83,
   "metadata": {},
   "outputs": [
    {
     "data": {
      "text/plain": [
       "array([9.9999e-05, 1.0000e-04, 1.0000e-04, 1.0000e-04, 1.0000e-04,\n",
       "       1.0000e-04, 1.0000e-04, 1.0000e-04, 1.0000e-04, 1.0000e-04,\n",
       "       1.0000e-04, 1.0000e-04, 1.0000e-04, 1.0000e-04, 1.0000e-04,\n",
       "       1.0000e-04, 1.0000e-04, 1.0000e-04, 1.0000e-04, 1.0000e-04])"
      ]
     },
     "execution_count": 83,
     "metadata": {},
     "output_type": "execute_result"
    }
   ],
   "source": [
    "s"
   ]
  },
  {
   "cell_type": "code",
   "execution_count": null,
   "metadata": {},
   "outputs": [],
   "source": [
    "np.diff()"
   ]
  }
 ],
 "metadata": {
  "kernelspec": {
   "display_name": "Python 3",
   "language": "python",
   "name": "python3"
  },
  "language_info": {
   "codemirror_mode": {
    "name": "ipython",
    "version": 3
   },
   "file_extension": ".py",
   "mimetype": "text/x-python",
   "name": "python",
   "nbconvert_exporter": "python",
   "pygments_lexer": "ipython3",
   "version": "3.7.3"
  }
 },
 "nbformat": 4,
 "nbformat_minor": 2
}
