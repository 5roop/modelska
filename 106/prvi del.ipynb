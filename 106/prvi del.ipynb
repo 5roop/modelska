{
 "cells": [
  {
   "cell_type": "code",
   "execution_count": 98,
   "metadata": {},
   "outputs": [],
   "source": [
    "from __future__ import print_function\n",
    "import numpy as np\n",
    "import pandas as pd\n",
    "import matplotlib.pyplot as plt\n",
    "from scipy.integrate import odeint\n",
    "from ipywidgets import FloatSlider\n",
    "from ipywidgets import interact, interactive, fixed, interact_manual\n",
    "import ipywidgets as widgets\n",
    "from scipy.optimize import curve_fit\n",
    "\n",
    "plt.style.use(\"ggplot\")\n",
    "plt.rcParams['font.family'] = \"serif\"\n",
    "plt.rcParams['font.size'] = 13"
   ]
  },
  {
   "cell_type": "code",
   "execution_count": 3,
   "metadata": {},
   "outputs": [
    {
     "name": "stdout",
     "output_type": "stream",
     "text": [
      "#x[doza]\ty[odziv]\n",
      "1       0.0001\n",
      "2\t0.001\n",
      "7\t15.3\n",
      "10\t34.6\n",
      "20\t49.3\n",
      "70\t82.6\n",
      "200\t96.0\n",
      "1000\t100.0\n"
     ]
    }
   ],
   "source": [
    "!cat farmakoloski.dat"
   ]
  },
  {
   "cell_type": "code",
   "execution_count": 46,
   "metadata": {},
   "outputs": [
    {
     "data": {
      "text/html": [
       "<div>\n",
       "<style scoped>\n",
       "    .dataframe tbody tr th:only-of-type {\n",
       "        vertical-align: middle;\n",
       "    }\n",
       "\n",
       "    .dataframe tbody tr th {\n",
       "        vertical-align: top;\n",
       "    }\n",
       "\n",
       "    .dataframe thead th {\n",
       "        text-align: right;\n",
       "    }\n",
       "</style>\n",
       "<table border=\"1\" class=\"dataframe\">\n",
       "  <thead>\n",
       "    <tr style=\"text-align: right;\">\n",
       "      <th></th>\n",
       "      <th>x</th>\n",
       "      <th>y</th>\n",
       "      <th>v</th>\n",
       "      <th>y_err</th>\n",
       "      <th>v_err</th>\n",
       "    </tr>\n",
       "  </thead>\n",
       "  <tbody>\n",
       "    <tr>\n",
       "      <th>0</th>\n",
       "      <td>1.0</td>\n",
       "      <td>0.0001</td>\n",
       "      <td>10000.000000</td>\n",
       "      <td>3</td>\n",
       "      <td>3.000000e+08</td>\n",
       "    </tr>\n",
       "    <tr>\n",
       "      <th>1</th>\n",
       "      <td>2.0</td>\n",
       "      <td>0.0010</td>\n",
       "      <td>1000.000000</td>\n",
       "      <td>3</td>\n",
       "      <td>3.000000e+06</td>\n",
       "    </tr>\n",
       "    <tr>\n",
       "      <th>2</th>\n",
       "      <td>7.0</td>\n",
       "      <td>15.3000</td>\n",
       "      <td>0.065359</td>\n",
       "      <td>3</td>\n",
       "      <td>1.281558e-02</td>\n",
       "    </tr>\n",
       "    <tr>\n",
       "      <th>3</th>\n",
       "      <td>10.0</td>\n",
       "      <td>34.6000</td>\n",
       "      <td>0.028902</td>\n",
       "      <td>3</td>\n",
       "      <td>2.505931e-03</td>\n",
       "    </tr>\n",
       "    <tr>\n",
       "      <th>4</th>\n",
       "      <td>20.0</td>\n",
       "      <td>49.3000</td>\n",
       "      <td>0.020284</td>\n",
       "      <td>3</td>\n",
       "      <td>1.234319e-03</td>\n",
       "    </tr>\n",
       "  </tbody>\n",
       "</table>\n",
       "</div>"
      ],
      "text/plain": [
       "      x        y             v  y_err         v_err\n",
       "0   1.0   0.0001  10000.000000      3  3.000000e+08\n",
       "1   2.0   0.0010   1000.000000      3  3.000000e+06\n",
       "2   7.0  15.3000      0.065359      3  1.281558e-02\n",
       "3  10.0  34.6000      0.028902      3  2.505931e-03\n",
       "4  20.0  49.3000      0.020284      3  1.234319e-03"
      ]
     },
     "execution_count": 46,
     "metadata": {},
     "output_type": "execute_result"
    }
   ],
   "source": [
    "data = pd.read_table(\"farmakoloski.dat\", sep=\"\\t\" , skiprows=1,\n",
    "                     names=[\"x\", \"y\"],dtype = np.float64)\n",
    "data[\"v\"] = data.y**(-1)\n",
    "data[\"y_err\"] = 3\n",
    "data[\"v_err\"] = data.y_err/data.y**2\n",
    "data.head()"
   ]
  },
  {
   "cell_type": "code",
   "execution_count": 44,
   "metadata": {},
   "outputs": [
    {
     "data": {
      "image/png": "[encoded data removed]",
      "text/plain": [
       "<Figure size 720x360 with 2 Axes>"
      ]
     },
     "metadata": {
      "needs_background": "light"
     },
     "output_type": "display_data"
    }
   ],
   "source": [
    "plt.figure(figsize=(10,5))\n",
    "plt.subplot(121)\n",
    "plt.errorbar(data.x, data.y, yerr=data.y_err, label=\"y\", ecolor=\"k\")\n",
    "plt.xlabel(r\"Doza $x$ ()\")\n",
    "plt.ylabel(r\"Odziv $y$ - izvorni podatki\")\n",
    "plt.legend()\n",
    "\n",
    "plt.subplot(122)\n",
    "plt.errorbar(1/data.x[2:], data.v[2:], yerr = data.v_err[2:], label=r\"$\\tilde{y}$\", ecolor=\"k\")\n",
    "plt.xlabel(r\"Inverzna doza $x^{-1}$ ()\")\n",
    "plt.ylabel(r\"Odziv $\\tilde{y}$ - transformirani podatki\")\n",
    "plt.legend()\n",
    "plt.ylim((0, 1e-1))\n",
    "\n",
    "plt.tight_layout(h_pad=1.05)\n",
    "plt.savefig(\"1-1-original-in-transformirano.pdf\")\n",
    "plt.savefig(\"1-1-original-in-transformirano.jpg\")\n",
    "plt.show()"
   ]
  },
  {
   "cell_type": "code",
   "execution_count": 70,
   "metadata": {},
   "outputs": [
    {
     "ename": "SyntaxError",
     "evalue": "can't use starred expression here (cell_name, line 20)",
     "output_type": "error",
     "traceback": [
      "\u001b[0;36m  File \u001b[0;32m\"cell_name\"\u001b[0;36m, line \u001b[0;32m20\u001b[0m\n\u001b[0;31mSyntaxError\u001b[0m\u001b[0;31m:\u001b[0m can't use starred expression here\n"
     ]
    }
   ],
   "source": [
    "def fi1(x):\n",
    "    \"\"\"Prva bazna funkcija\"\"\"\n",
    "    return 1\n",
    "def fi2(x):\n",
    "    \"\"\"Druga bazna funkcija\"\"\"\n",
    "    return np.power(x, -1)\n",
    "\n",
    "fiji = [fi1, fi2]\n",
    "\n",
    "A = np.zeros((2,2))\n",
    "for j in [0,1]:\n",
    "    for k in [0,1]:\n",
    "        A[j, k] = sum( fiji[j](data.x) * fiji[k](data.x)/(data.v_err**2)        )\n",
    "b = np.zeros((2,))\n",
    "for j in [0,1]:\n",
    "    b[j] = sum(data.v*fiji[j](data.x)/data.v_err**2)\n"
   ]
  },
  {
   "cell_type": "code",
   "execution_count": 74,
   "metadata": {},
   "outputs": [
    {
     "data": {
      "text/plain": [
       "array([0.00955264, 0.20241427])"
      ]
     },
     "execution_count": 74,
     "metadata": {},
     "output_type": "execute_result"
    }
   ],
   "source": [
    "from numpy.linalg import inv\n",
    "a = np.dot(inv(A), b)\n",
    "a"
   ]
  },
  {
   "cell_type": "code",
   "execution_count": 76,
   "metadata": {},
   "outputs": [
    {
     "data": {
      "text/plain": [
       "6.237709441348021"
      ]
     },
     "execution_count": 76,
     "metadata": {},
     "output_type": "execute_result"
    }
   ],
   "source": [
    "hi2 = sum((data.v - a[0]*fi1(data.x)-a[1]*fi2(data.x))**2 /data.v_err**2)\n",
    "hi2"
   ]
  },
  {
   "cell_type": "code",
   "execution_count": 77,
   "metadata": {},
   "outputs": [
    {
     "data": {
      "text/plain": [
       "6"
      ]
     },
     "execution_count": 77,
     "metadata": {},
     "output_type": "execute_result"
    }
   ],
   "source": [
    "len(data.x) - 2"
   ]
  },
  {
   "cell_type": "code",
   "execution_count": 52,
   "metadata": {},
   "outputs": [
    {
     "name": "stdout",
     "output_type": "stream",
     "text": [
      "61 µs ± 8.95 µs per loop (mean ± std. dev. of 7 runs, 10000 loops each)\n"
     ]
    }
   ],
   "source": [
    "%timeit sum(data.x)"
   ]
  },
  {
   "cell_type": "code",
   "execution_count": 53,
   "metadata": {},
   "outputs": [
    {
     "name": "stdout",
     "output_type": "stream",
     "text": [
      "314 µs ± 38.5 µs per loop (mean ± std. dev. of 7 runs, 1000 loops each)\n"
     ]
    }
   ],
   "source": [
    "%timeit np.sum(data.x)"
   ]
  },
  {
   "cell_type": "code",
   "execution_count": 59,
   "metadata": {},
   "outputs": [
    {
     "data": {
      "text/plain": [
       "array([0., 0.])"
      ]
     },
     "execution_count": 59,
     "metadata": {},
     "output_type": "execute_result"
    }
   ],
   "source": [
    "np.zeros((2,))"
   ]
  },
  {
   "cell_type": "code",
   "execution_count": 82,
   "metadata": {},
   "outputs": [
    {
     "data": {
      "text/plain": [
       "array([0.00955264, 0.20241427])"
      ]
     },
     "execution_count": 82,
     "metadata": {},
     "output_type": "execute_result"
    }
   ],
   "source": [
    "a"
   ]
  },
  {
   "cell_type": "code",
   "execution_count": 96,
   "metadata": {},
   "outputs": [
    {
     "data": {
      "text/plain": [
       "array([[ 5.14135815e-08, -2.00568648e-06],\n",
       "       [-2.00568648e-06,  2.92826399e-04]])"
      ]
     },
     "execution_count": 96,
     "metadata": {},
     "output_type": "execute_result"
    }
   ],
   "source": [
    "C = inv(A)\n",
    "C"
   ]
  },
  {
   "cell_type": "code",
   "execution_count": 94,
   "metadata": {},
   "outputs": [
    {
     "data": {
      "text/plain": [
       "array([[ 1.        , -0.51691484],\n",
       "       [-0.51691484,  1.        ]])"
      ]
     },
     "execution_count": 94,
     "metadata": {},
     "output_type": "execute_result"
    }
   ],
   "source": [
    "D=np.zeros((2,2))\n",
    "np.fill_diagonal(D, np.diag(C))\n",
    "D = np.sqrt(D)\n",
    "rho = inv(D) @ C @ inv(D)\n",
    "rho"
   ]
  },
  {
   "cell_type": "code",
   "execution_count": 95,
   "metadata": {},
   "outputs": [
    {
     "data": {
      "text/plain": [
       "8"
      ]
     },
     "execution_count": 95,
     "metadata": {},
     "output_type": "execute_result"
    }
   ],
   "source": [
    "len(data)"
   ]
  },
  {
   "cell_type": "code",
   "execution_count": 102,
   "metadata": {},
   "outputs": [
    {
     "data": {
      "text/plain": [
       "array([106.31712844,  24.76258099])"
      ]
     },
     "execution_count": 102,
     "metadata": {},
     "output_type": "execute_result"
    }
   ],
   "source": [
    "def model(x, y0, a):\n",
    "    return (y0 * x)/(x+a)\n",
    "\n",
    "popt, pcov = curve_fit(model, data.x, data.y, sigma=data.y_err\n",
    "                      )\n",
    "popt\n"
   ]
  },
  {
   "cell_type": "code",
   "execution_count": 100,
   "metadata": {},
   "outputs": [
    {
     "data": {
      "text/plain": [
       "array([[22.64732839, 13.22026102],\n",
       "       [13.22026102, 17.33688045]])"
      ]
     },
     "execution_count": 100,
     "metadata": {},
     "output_type": "execute_result"
    }
   ],
   "source": [
    "pcov"
   ]
  },
  {
   "cell_type": "code",
   "execution_count": 103,
   "metadata": {},
   "outputs": [
    {
     "data": {
      "text/plain": [
       "array([[1.        , 0.66718468],\n",
       "       [0.66718468, 1.        ]])"
      ]
     },
     "execution_count": 103,
     "metadata": {},
     "output_type": "execute_result"
    }
   ],
   "source": [
    "C = pcov\n",
    "\n",
    "D=np.zeros((2,2))\n",
    "np.fill_diagonal(D, np.diag(C))\n",
    "D = np.sqrt(D)\n",
    "rho = inv(D) @ C @ inv(D)\n",
    "rho"
   ]
  },
  {
   "cell_type": "code",
   "execution_count": 119,
   "metadata": {},
   "outputs": [
    {
     "data": {
      "image/png": "[encoded data removed]",
      "text/plain": [
       "<Figure size 1080x360 with 2 Axes>"
      ]
     },
     "metadata": {},
     "output_type": "display_data"
    }
   ],
   "source": [
    "razpon = np.linspace(np.min(data.x), np.max(data.x), num=100)\n",
    "fit1 = model(razpon, 104.6831033, 21.18935)\n",
    "fit2 = model(razpon, *popt)\n",
    "\n",
    "plt.figure(figsize=(15, 5))\n",
    "plt.subplot(121)\n",
    "plt.errorbar(data.x, data.y, yerr=data.y_err, label=\"Podatki\", ecolor=\"k\")\n",
    "plt.plot(razpon, fit1, label=\"Lin. fit\", c=\"g\")\n",
    "plt.plot(razpon, fit2, label=\"Curve_fit\", c = \"k\")\n",
    "plt.legend()\n",
    "plt.xlabel(r\"Doza $x$ ()\")\n",
    "plt.ylabel(r\"Odziv\")\n",
    "plt.semilogx()\n",
    "\n",
    "plt.subplot(122)\n",
    "plt.plot(data.x, np.abs(data.y-model(data.x, 104.6831033, 21.18935)), label=\"Lin. fit\")\n",
    "plt.plot(data.x, np.abs(data.y-model(data.x, *popt)), label=\"Curve_fit\")\n",
    "plt.semilogy()\n",
    "plt.semilogx()\n",
    "\n",
    "plt.ylabel(\"|fit - podatki|\")\n",
    "plt.xlabel(r\"Doza $x$ ()\")\n",
    "\n",
    "plt.legend()\n",
    "plt.savefig(\"1-4-primerjavafitov.pdf\")\n",
    "plt.savefig(\"1-4-primerjavafitov.jpg\")\n",
    "plt.show()"
   ]
  },
  {
   "cell_type": "code",
   "execution_count": 117,
   "metadata": {},
   "outputs": [
    {
     "data": {
      "text/plain": [
       "0     5.992251\n",
       "1    22.156300\n",
       "2    24.857194\n",
       "3     3.906851\n",
       "4     0.416777\n",
       "5     4.474550\n",
       "6     0.613946\n",
       "7     4.119873\n",
       "dtype: float64"
      ]
     },
     "execution_count": 117,
     "metadata": {},
     "output_type": "execute_result"
    }
   ],
   "source": [
    "#Hi2 za curve_fit\n",
    "((data.y-model(data.x, 106, 24))**2 )/ data.y_err"
   ]
  },
  {
   "cell_type": "code",
   "execution_count": 112,
   "metadata": {},
   "outputs": [
    {
     "data": {
      "text/plain": [
       "array([106.31712844,  24.76258099])"
      ]
     },
     "execution_count": 112,
     "metadata": {},
     "output_type": "execute_result"
    }
   ],
   "source": [
    "popt"
   ]
  },
  {
   "cell_type": "code",
   "execution_count": null,
   "metadata": {},
   "outputs": [],
   "source": []
  }
 ],
 "metadata": {
  "kernelspec": {
   "display_name": "Python [conda env:]",
   "language": "python",
   "name": "python3"
  },
  "language_info": {
   "codemirror_mode": {
    "name": "ipython",
    "version": 3
   },
   "file_extension": ".py",
   "mimetype": "text/x-python",
   "name": "python",
   "nbconvert_exporter": "python",
   "pygments_lexer": "ipython3",
   "version": "3.7.4"
  }
 },
 "nbformat": 4,
 "nbformat_minor": 4
}
