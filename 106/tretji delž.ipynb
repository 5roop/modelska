{
 "cells": [
  {
   "cell_type": "code",
   "execution_count": 1,
   "metadata": {},
   "outputs": [],
   "source": [
    "from __future__ import print_function\n",
    "import numpy as np\n",
    "import pandas as pd\n",
    "import matplotlib.pyplot as plt\n",
    "from scipy.integrate import odeint\n",
    "from ipywidgets import FloatSlider\n",
    "from ipywidgets import interact, interactive, fixed, interact_manual\n",
    "import ipywidgets as widgets\n",
    "from scipy.optimize import curve_fit\n",
    "\n",
    "from mpl_toolkits.mplot3d import Axes3D\n",
    "plt.style.use(\"ggplot\")\n",
    "plt.rcParams['font.family'] = \"serif\"\n",
    "plt.rcParams['font.size'] = 13"
   ]
  },
  {
   "cell_type": "code",
   "execution_count": 2,
   "metadata": {},
   "outputs": [
    {
     "name": "stdout",
     "output_type": "stream",
     "text": [
      "# Athena multicolumn data file -- Athena version 0.8.061\n",
      "# This file contains normalized mu(E) from:\n",
      "# listi_cell_wall_epi.xmu (column 2)\n",
      "# listi_cell_wall_mezo.xmu (column 3)\n",
      "# CdSO4_GSH.xmu (column 4)\n",
      "# CdSO4_pectin_tr.xmu (column 5)\n",
      "#------------------------\n",
      "#  energy  listi_cell_wall_epi_xmu listi_cell_wall_mezo_xmu  CdSO4_GSH_xmu  CdSO4_pectin_tr_xmu\n",
      "  3520.2720       0.15053182E-02   0.11627657E-02  -0.85828717E-03   0.33159921E-02\n",
      "  3520.5660       0.64909787E-03   0.88397631E-03   0.62566149E-03  -0.47226292E-03\n"
     ]
    }
   ],
   "source": [
    "!head *.norm"
   ]
  },
  {
   "cell_type": "code",
   "execution_count": 3,
   "metadata": {},
   "outputs": [
    {
     "data": {
      "text/html": [
       "<div>\n",
       "<style scoped>\n",
       "    .dataframe tbody tr th:only-of-type {\n",
       "        vertical-align: middle;\n",
       "    }\n",
       "\n",
       "    .dataframe tbody tr th {\n",
       "        vertical-align: top;\n",
       "    }\n",
       "\n",
       "    .dataframe thead th {\n",
       "        text-align: right;\n",
       "    }\n",
       "</style>\n",
       "<table border=\"1\" class=\"dataframe\">\n",
       "  <thead>\n",
       "    <tr style=\"text-align: right;\">\n",
       "      <th></th>\n",
       "      <th>E</th>\n",
       "      <th>v1</th>\n",
       "      <th>v2</th>\n",
       "      <th>s1</th>\n",
       "      <th>s2</th>\n",
       "    </tr>\n",
       "  </thead>\n",
       "  <tbody>\n",
       "    <tr>\n",
       "      <th>195</th>\n",
       "      <td>3578.731</td>\n",
       "      <td>0.945549</td>\n",
       "      <td>0.943797</td>\n",
       "      <td>0.928856</td>\n",
       "      <td>0.935237</td>\n",
       "    </tr>\n",
       "    <tr>\n",
       "      <th>196</th>\n",
       "      <td>3579.036</td>\n",
       "      <td>0.948886</td>\n",
       "      <td>0.932838</td>\n",
       "      <td>0.935213</td>\n",
       "      <td>0.934686</td>\n",
       "    </tr>\n",
       "    <tr>\n",
       "      <th>197</th>\n",
       "      <td>3579.343</td>\n",
       "      <td>0.947313</td>\n",
       "      <td>0.927981</td>\n",
       "      <td>0.928297</td>\n",
       "      <td>0.932642</td>\n",
       "    </tr>\n",
       "    <tr>\n",
       "      <th>198</th>\n",
       "      <td>3579.648</td>\n",
       "      <td>0.950789</td>\n",
       "      <td>0.935820</td>\n",
       "      <td>0.926735</td>\n",
       "      <td>0.932916</td>\n",
       "    </tr>\n",
       "    <tr>\n",
       "      <th>199</th>\n",
       "      <td>3579.955</td>\n",
       "      <td>0.934221</td>\n",
       "      <td>0.954980</td>\n",
       "      <td>0.916258</td>\n",
       "      <td>0.933789</td>\n",
       "    </tr>\n",
       "  </tbody>\n",
       "</table>\n",
       "</div>"
      ],
      "text/plain": [
       "            E        v1        v2        s1        s2\n",
       "195  3578.731  0.945549  0.943797  0.928856  0.935237\n",
       "196  3579.036  0.948886  0.932838  0.935213  0.934686\n",
       "197  3579.343  0.947313  0.927981  0.928297  0.932642\n",
       "198  3579.648  0.950789  0.935820  0.926735  0.932916\n",
       "199  3579.955  0.934221  0.954980  0.916258  0.933789"
      ]
     },
     "execution_count": 3,
     "metadata": {},
     "output_type": "execute_result"
    }
   ],
   "source": [
    "fajli = !ls *.norm\n",
    "prebrano = np.loadtxt(fajli[0])\n",
    "data = pd.DataFrame(data=prebrano, columns=[\"E\", \"v1\", #vzorec 1, krovna plast\n",
    "                                            \"v2\", #vzorec 2, sredica listov\n",
    "                                            \"s1\", #standard Cd-S\n",
    "                                            \"s2\" # standar Cd-O\n",
    "                                            ])\n",
    "data.tail()\n"
   ]
  },
  {
   "cell_type": "code",
   "execution_count": 5,
   "metadata": {},
   "outputs": [
    {
     "data": {
      "image/png": "[encoded data removed]",
      "text/plain": [
       "<Figure size 432x288 with 1 Axes>"
      ]
     },
     "metadata": {
      "needs_background": "light"
     },
     "output_type": "display_data"
    }
   ],
   "source": [
    "plt.plot(data.E, data.v1, label=\"Vzorec, krovna plast\")\n",
    "plt.plot(data.E, data.v2  ,label=\"Vzorec, sredica listov\")\n",
    "plt.plot(data.E, data.s1  ,label=\"Standard, Cd-S\")\n",
    "plt.plot(data.E, data.s2  ,label=\"Standard, Cd-O\")\n",
    "\n",
    "plt.legend()\n",
    "plt.xlabel(\"Energija\")\n",
    "plt.ylabel(r\"Normaliziran $\\mu(E)$\")\n",
    "plt.savefig(\"3-1-plot.pdf\")\n",
    "plt.savefig(\"3-1-plot.jpg\")\n",
    "plt.show()"
   ]
  },
  {
   "cell_type": "code",
   "execution_count": 58,
   "metadata": {},
   "outputs": [
    {
     "data": {
      "text/plain": [
       "(1.8179918051380684e-05,\n",
       " 1.2514135757575099e-05,\n",
       " 1.8237390670944052e-05,\n",
       " 0.00010472451022223754)"
      ]
     },
     "execution_count": 58,
     "metadata": {},
     "output_type": "execute_result"
    }
   ],
   "source": [
    "s1_sigma = np.sum((data.s1.rolling(5).mean().shift(-2)[3:-3]-data.s1[3:-3])**2)/len(data.s1-5)\n",
    "s2_sigma = np.sum((data.s2.rolling(5).mean().shift(-2)[3:-3]-data.s2[3:-3])**2)/len(data.s2-5)\n",
    "v1_sigma = np.sum((data.v1.rolling(5).mean().shift(-2)[3:-3]-data.v1[3:-3])**2)/len(data.v1-5)\n",
    "v2_sigma = np.sum((data.v2.rolling(5).mean().shift(-2)[3:-3]-data.v2[3:-3])**2)/len(data.v2-5)\n",
    "(s1_sigma, s2_sigma, v1_sigma, v2_sigma)"
   ]
  },
  {
   "cell_type": "markdown",
   "metadata": {},
   "source": [
    "Napravim najprvo za v1:"
   ]
  },
  {
   "cell_type": "code",
   "execution_count": 44,
   "metadata": {},
   "outputs": [],
   "source": [
    "A = np.array([data.s1/s1_sigma**0.5, data.s2/s2_sigma**0.5]).T\n",
    "b1 = np.array([data.v1/v1_sigma**0.5])\n",
    "b2 = np.array([data.v2/v2_sigma**0.5])\n",
    "from numpy.linalg import svd\n",
    "U, w, Vt = svd(A)\n"
   ]
  },
  {
   "cell_type": "code",
   "execution_count": 57,
   "metadata": {},
   "outputs": [
    {
     "data": {
      "text/plain": [
       "(array([0.27227471, 0.60460836]), array([0.2304239 , 0.15373835]))"
      ]
     },
     "execution_count": 57,
     "metadata": {},
     "output_type": "execute_result"
    }
   ],
   "source": [
    "a1 = np.zeros(2)\n",
    "a2 = np.zeros(2)\n",
    "V = Vt.T\n",
    "\n",
    "for i in range(2):\n",
    "    a1 = a1 + (np.dot(U.T[i], b1.reshape(-1)))/np.diag(w)[i,i] * Vt[i]\n",
    "    a2 = a2 + (np.dot(U.T[i], b2.reshape(-1)))/np.diag(w)[i,i] * Vt[i]\n",
    "a1, a2"
   ]
  },
  {
   "cell_type": "code",
   "execution_count": 42,
   "metadata": {},
   "outputs": [],
   "source": [
    "sigme1 = np.array([0,0])\n",
    "sigme2 = np.array([0,0])\n",
    "for j in range(2):\n",
    "    sigme1[j] = 0\n",
    "    for i in range(2):\n",
    "        sigme1[j] = sigme1[j] + (V[j,i]/w[i])**2\n",
    "        sigme2[j] = sigme2[j] + (V[j,i]/w[i])**2\n"
   ]
  },
  {
   "cell_type": "code",
   "execution_count": 43,
   "metadata": {},
   "outputs": [
    {
     "data": {
      "text/plain": [
       "(array([0., 0.]), array([0., 0.]))"
      ]
     },
     "execution_count": 43,
     "metadata": {},
     "output_type": "execute_result"
    }
   ],
   "source": [
    "sigme1, sigme2"
   ]
  },
  {
   "cell_type": "code",
   "execution_count": 49,
   "metadata": {},
   "outputs": [
    {
     "data": {
      "text/plain": [
       "(0.0027733248608547544, 0.002404369086119501)"
      ]
     },
     "execution_count": 49,
     "metadata": {},
     "output_type": "execute_result"
    }
   ],
   "source": [
    "(np.sum((V[:,0]/w)**2))**0.5,(np.sum((V[:,1]/w)**2))**0.5\n"
   ]
  },
  {
   "cell_type": "code",
   "execution_count": 41,
   "metadata": {},
   "outputs": [
    {
     "data": {
      "text/plain": [
       "200"
      ]
     },
     "execution_count": 41,
     "metadata": {},
     "output_type": "execute_result"
    }
   ],
   "source": [
    "len(data)"
   ]
  },
  {
   "cell_type": "code",
   "execution_count": 51,
   "metadata": {},
   "outputs": [
    {
     "data": {
      "text/plain": [
       "0            NaN\n",
       "1            NaN\n",
       "2            NaN\n",
       "3            NaN\n",
       "4      3520.8604\n",
       "5      3521.1544\n",
       "6      3521.4486\n",
       "7      3521.7428\n",
       "8      3522.0370\n",
       "9      3522.3304\n",
       "10     3522.6246\n",
       "11     3522.9184\n",
       "12     3523.2128\n",
       "13     3523.5072\n",
       "14     3523.8016\n",
       "15     3524.0962\n",
       "16     3524.3910\n",
       "17     3524.6852\n",
       "18     3524.9796\n",
       "19     3525.2746\n",
       "20     3525.5696\n",
       "21     3525.8650\n",
       "22     3526.1610\n",
       "23     3526.4566\n",
       "24     3526.7522\n",
       "25     3527.0474\n",
       "26     3527.3416\n",
       "27     3527.6364\n",
       "28     3527.9318\n",
       "29     3528.2274\n",
       "         ...    \n",
       "170    3570.4982\n",
       "171    3570.8018\n",
       "172    3571.1056\n",
       "173    3571.4096\n",
       "174    3571.7134\n",
       "175    3572.0178\n",
       "176    3572.3224\n",
       "177    3572.6276\n",
       "178    3572.9322\n",
       "179    3573.2366\n",
       "180    3573.5414\n",
       "181    3573.8458\n",
       "182    3574.1492\n",
       "183    3574.4548\n",
       "184    3574.7608\n",
       "185    3575.0654\n",
       "186    3575.3718\n",
       "187    3575.6776\n",
       "188    3575.9820\n",
       "189    3576.2864\n",
       "190    3576.5920\n",
       "191    3576.8964\n",
       "192    3577.2020\n",
       "193    3577.5082\n",
       "194    3577.8140\n",
       "195    3578.1196\n",
       "196    3578.4254\n",
       "197    3578.7312\n",
       "198    3579.0366\n",
       "199    3579.3426\n",
       "Name: E, Length: 200, dtype: float64"
      ]
     },
     "execution_count": 51,
     "metadata": {},
     "output_type": "execute_result"
    }
   ],
   "source": [
    "data.E.rolling(5).mean(), data.E"
   ]
  },
  {
   "cell_type": "code",
   "execution_count": 56,
   "metadata": {},
   "outputs": [
    {
     "data": {
      "image/png": "[encoded data removed]",
      "text/plain": [
       "<Figure size 432x288 with 1 Axes>"
      ]
     },
     "metadata": {
      "needs_background": "light"
     },
     "output_type": "display_data"
    }
   ],
   "source": [
    "@interact(delay=FloatSlider(min=-10, max=10, value=0, step=1))\n",
    "def _(delay):\n",
    "    plt.plot(data.E, data.v1, label=\"Vzorec, krovna plast\")\n",
    "    plt.plot(data.E, data.v1.rolling(10).mean().shift(np.int(delay))  ,label=\"Delay: {}\".format(np.int(delay)))\n",
    "    plt.show()"
   ]
  },
  {
   "cell_type": "code",
   "execution_count": null,
   "metadata": {},
   "outputs": [],
   "source": []
  }
 ],
 "metadata": {
  "kernelspec": {
   "display_name": "Python 3",
   "language": "python",
   "name": "python3"
  },
  "language_info": {
   "codemirror_mode": {
    "name": "ipython",
    "version": 3
   },
   "file_extension": ".py",
   "mimetype": "text/x-python",
   "name": "python",
   "nbconvert_exporter": "python",
   "pygments_lexer": "ipython3",
   "version": "3.6.6"
  }
 },
 "nbformat": 4,
 "nbformat_minor": 2
}
