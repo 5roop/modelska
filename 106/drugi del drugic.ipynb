{
 "cells": [
  {
   "cell_type": "code",
   "execution_count": 3,
   "metadata": {},
   "outputs": [],
   "source": [
    "from __future__ import print_function\n",
    "import numpy as np\n",
    "import pandas as pd\n",
    "import matplotlib.pyplot as plt\n",
    "from scipy.integrate import odeint\n",
    "from ipywidgets import FloatSlider\n",
    "from ipywidgets import interact, interactive, fixed, interact_manual\n",
    "import ipywidgets as widgets\n",
    "from scipy.optimize import curve_fit\n",
    "\n",
    "from mpl_toolkits.mplot3d import Axes3D\n",
    "plt.style.use(\"dark_background\")\n",
    "plt.style.use(\"ggplot\")\n",
    "plt.rcParams['font.family'] = \"serif\"\n",
    "plt.rcParams['font.size'] = 13"
   ]
  },
  {
   "cell_type": "code",
   "execution_count": 12,
   "metadata": {},
   "outputs": [
    {
     "data": {
      "text/plain": [
       "array([[-70.63 ,  -0.816,  82.102],\n",
       "       [-60.54 ,  -1.016,  70.102],\n",
       "       [-50.45 ,  -0.916,  59.102],\n",
       "       ...,\n",
       "       [  0.   ,  81.184,  82.102],\n",
       "       [ 10.075,  80.984,  70.102],\n",
       "       [ 20.15 ,  80.984,  58.102]])"
      ]
     },
     "execution_count": 12,
     "metadata": {},
     "output_type": "execute_result"
    }
   ],
   "source": [
    "fajli = !ls tht*.dat\n",
    "a = np.loadtxt(fajli[0])\n",
    "a\n"
   ]
  },
  {
   "cell_type": "code",
   "execution_count": null,
   "metadata": {},
   "outputs": [],
   "source": []
  }
 ],
 "metadata": {
  "kernelspec": {
   "display_name": "Python 3",
   "language": "python",
   "name": "python3"
  },
  "language_info": {
   "codemirror_mode": {
    "name": "ipython",
    "version": 3
   },
   "file_extension": ".py",
   "mimetype": "text/x-python",
   "name": "python",
   "nbconvert_exporter": "python",
   "pygments_lexer": "ipython3",
   "version": "3.6.6"
  }
 },
 "nbformat": 4,
 "nbformat_minor": 2
}
