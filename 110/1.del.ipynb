{
 "cells": [
  {
   "cell_type": "code",
   "execution_count": 1,
   "metadata": {},
   "outputs": [],
   "source": [
    "from __future__ import print_function\n",
    "import numpy as np\n",
    "import matplotlib.pyplot as plt\n",
    "import pandas as pd\n",
    "import os\n",
    "from ipywidgets import IntProgress\n",
    "from IPython.display import display\n",
    "\n",
    "\n",
    "\n",
    "np.set_printoptions(precision=4)\n",
    "plt.style.use(\"ggplot\")\n",
    "plt.rcParams['font.family'] = \"serif\"\n",
    "plt.rcParams['font.size'] = 13\n",
    "def seedaj():\n",
    "    with open(\"/dev/urandom\", 'rb') as f:\n",
    "        return (int.from_bytes(f.read(4), 'big'))\n",
    "def konc():\n",
    "    import os\n",
    "    duration = 0.5  # second\n",
    "    freq = 880  # Hz\n",
    "    os.system('play --no-show-progress --null --channels 1 synth %s sine %f' % (duration, freq))\n"
   ]
  },
  {
   "cell_type": "code",
   "execution_count": 2,
   "metadata": {},
   "outputs": [],
   "source": [
    "alfa = 1, \n",
    "beta = 1/40, \n",
    "polozaj = None, \n",
    "iteracij = 10**5\n",
    "\n",
    "iteracij = int(iteracij)\n",
    "if polozaj is not None:\n",
    "    polozaj = np.zeros(17)\n",
    "def poteza(polozaj):\n",
    "    \"\"\"Spremeni eno pozicijo in izračuna deltaE\n",
    "    Ne sme spremenit ničte ali zadnje pozicije!\n",
    "    Ne sme iti čez 19 nivojev v globino.\n",
    "\n",
    "    Vrne nov položaj in deltaE\"\"\"\n",
    "    nakljucna_pozicija = np.random.randint(low=1, high=16)\n",
    "    if polozaj[nakljucna_pozicija] == 0:\n",
    "        delta = -1\n",
    "    elif polozaj[nakljucna_pozicija] == -19:\n",
    "        delta = 1\n",
    "    else:\n",
    "        delta = np.random.choice([-1,1])\n",
    "    polozaj[nakljucna_pozicija] += delta\n",
    "    deltaE = delta**2 - delta*(polozaj[nakljucna_pozicija +1] - 2 * polozaj[nakljucna_pozicija] +\\\n",
    "                               polozaj[nakljucna_pozicija] - alfa)\n",
    "    return polozaj, deltaE\n",
    "\n",
    "def sprejmi_potezo(deltaE, beta):\n",
    "    if deltaE < 0:\n",
    "        return True\n",
    "    else:\n",
    "        if np.random.uniform() <= np.exp(-deltaE*beta):\n",
    "            return True\n",
    "        else:\n",
    "            return False\n",
    "def energija(polozaj, alfa):\n",
    "    return alfa*np.sum(polozaj) + 0.5 * np.sum((polozaj[:-1]-polozaj[1:])**2)\n",
    "iji = range(iteracij)\n",
    "energijski_potek = np.empty_like(iji)\n",
    "f = IntProgress(min=0, max=len(iji)) # instantiate the bar\n",
    "display(f) # display the bar\n",
    "#print(\"Pršu je da ta\")\n",
    "#Mainloop:\n",
    "for i in iji:\n",
    "    #print(\"tut da ta je prsu\")\n",
    "    f.value += 1\n",
    "    E = energija(polozaj, alfa)\n",
    "    energijski_potek[i] = E\n",
    "    if i%1000 == 0:\n",
    "        print(f\"Iteracija: {i}, energija: {E}\")\n",
    "\n",
    "    nov_polozaj, deltaE = poteza(polozaj=polozaj)\n",
    "\n",
    "    if sprejmi_potezo(deltaE, beta):            \n",
    "        polozaj=nov_polozaj\n",
    "print(f\"Položaj: {polozaj}, energija: {E:0.5}\")\n",
    "plt.subplot(121)\n",
    "plt.title(\"Oblika verige\")\n",
    "plt.plot(np.arange(0, 17, 1), polozaj)\n",
    "plt.ylim(( -19,0))\n",
    "plt.subplot(122)\n",
    "plt.plot(iji, energijski_potek)\n",
    "plt.title(\"Energijski potek\")\n",
    "plt.loglog()\n",
    "plt.show()\n",
    "konc()\n"
   ]
  },
  {
   "cell_type": "code",
   "execution_count": null,
   "metadata": {},
   "outputs": [],
   "source": [
    "polozaj"
   ]
  },
  {
   "cell_type": "code",
   "execution_count": null,
   "metadata": {},
   "outputs": [],
   "source": [
    "p, iji, ep = mrtrt(beta=0.25,iteracij=5*10**4, polozaj=np.array([0,-5, -18,-18,-18,-18,-18,-18,-18,-18,-18,-18,-18,-18,-18,-5,0]))"
   ]
  },
  {
   "cell_type": "code",
   "execution_count": null,
   "metadata": {},
   "outputs": [],
   "source": [
    "len([0,-5, -18,-18,-18,-18,-18,-18,-18,-18,-18,-18,-18,-18,-18,-5,0])"
   ]
  },
  {
   "cell_type": "code",
   "execution_count": null,
   "metadata": {},
   "outputs": [],
   "source": []
  }
 ],
 "metadata": {
  "kernelspec": {
   "display_name": "Python 3",
   "language": "python",
   "name": "python3"
  },
  "language_info": {
   "codemirror_mode": {
    "name": "ipython",
    "version": 3
   },
   "file_extension": ".py",
   "mimetype": "text/x-python",
   "name": "python",
   "nbconvert_exporter": "python",
   "pygments_lexer": "ipython3",
   "version": "3.6.6"
  }
 },
 "nbformat": 4,
 "nbformat_minor": 2
}
